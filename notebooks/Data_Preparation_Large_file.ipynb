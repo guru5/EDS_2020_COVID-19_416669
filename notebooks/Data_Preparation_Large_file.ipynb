{
 "cells": [
  {
   "cell_type": "code",
   "execution_count": 1,
   "metadata": {},
   "outputs": [],
   "source": [
    "import subprocess\n",
    "import os\n",
    "import numpy as np\n",
    "import pandas as pd\n",
    "\n",
    "import matplotlib\n",
    "\n",
    "from datetime import datetime\n",
    "\n",
    "from sklearn import linear_model\n",
    "\n",
    "from scipy import signal\n",
    "\n",
    "\n",
    "pd.set_option('display.max_rows', 500)"
   ]
  },
  {
   "cell_type": "markdown",
   "metadata": {},
   "source": [
    "# John Hopkins CSV data\n"
   ]
  },
  {
   "cell_type": "code",
   "execution_count": 2,
   "metadata": {},
   "outputs": [
    {
     "name": "stdout",
     "output_type": "stream",
     "text": [
      "Error : b'From https://github.com/CSSEGISandData/COVID-19\\n   e677c665..a10636a9  master                 -> origin/master\\n * [new branch]        Fix-Dailies-Aug-15     -> origin/Fix-Dailies-Aug-15\\n * [new branch]        Pull-MA-Updates-Aug-16 -> origin/Pull-MA-Updates-Aug-16\\n * [new branch]        Update-Brazil-Aug-12   -> origin/Update-Brazil-Aug-12\\n   1e5bd023..6854f5ab  web-data               -> origin/web-data\\n'\n",
      "out : b'Updating e677c665..a10636a9\\nFast-forward\\n README.md                                          |   34 +-\\n csse_covid_19_data/README.md                       |   13 +-\\n csse_covid_19_data/UID_ISO_FIPS_LookUp_Table.csv   |    8 +-\\n .../csse_covid_19_daily_reports/08-10-2020.csv     | 3941 ++++++++++++\\n .../csse_covid_19_daily_reports/08-11-2020.csv     | 3944 ++++++++++++\\n .../csse_covid_19_daily_reports/08-12-2020.csv     | 3944 ++++++++++++\\n .../csse_covid_19_daily_reports/08-13-2020.csv     | 3946 ++++++++++++\\n .../csse_covid_19_daily_reports/08-14-2020.csv     | 3946 ++++++++++++\\n .../csse_covid_19_daily_reports/08-15-2020.csv     | 3946 ++++++++++++\\n .../csse_covid_19_daily_reports/08-16-2020.csv     | 3946 ++++++++++++\\n .../csse_covid_19_daily_reports/08-17-2020.csv     | 3948 ++++++++++++\\n .../csse_covid_19_daily_reports/08-18-2020.csv     | 3948 ++++++++++++\\n .../csse_covid_19_daily_reports/08-19-2020.csv     | 3950 ++++++++++++\\n .../csse_covid_19_daily_reports/08-20-2020.csv     | 3950 ++++++++++++\\n .../csse_covid_19_daily_reports/08-21-2020.csv     | 3950 ++++++++++++\\n .../csse_covid_19_daily_reports/08-22-2020.csv     | 3951 ++++++++++++\\n .../csse_covid_19_daily_reports/08-23-2020.csv     | 3951 ++++++++++++\\n .../csse_covid_19_daily_reports_us/08-10-2020.csv  |   59 +\\n .../csse_covid_19_daily_reports_us/08-11-2020.csv  |   59 +\\n .../csse_covid_19_daily_reports_us/08-12-2020.csv  |   59 +\\n .../csse_covid_19_daily_reports_us/08-13-2020.csv  |   59 +\\n .../csse_covid_19_daily_reports_us/08-14-2020.csv  |   59 +\\n .../csse_covid_19_daily_reports_us/08-15-2020.csv  |   59 +\\n .../csse_covid_19_daily_reports_us/08-16-2020.csv  |   59 +\\n .../csse_covid_19_daily_reports_us/08-17-2020.csv  |   59 +\\n .../csse_covid_19_daily_reports_us/08-18-2020.csv  |   59 +\\n .../csse_covid_19_daily_reports_us/08-19-2020.csv  |   59 +\\n .../csse_covid_19_daily_reports_us/08-20-2020.csv  |   59 +\\n .../csse_covid_19_daily_reports_us/08-21-2020.csv  |   59 +\\n .../csse_covid_19_daily_reports_us/08-22-2020.csv  |   59 +\\n .../csse_covid_19_daily_reports_us/08-23-2020.csv  |   59 +\\n .../csse_covid_19_time_series/Errata.csv           |   29 +\\n .../time_series_covid19_confirmed_US.csv           | 6682 ++++++++++----------\\n .../time_series_covid19_confirmed_global.csv       |  534 +-\\n .../time_series_covid19_deaths_US.csv              | 6682 ++++++++++----------\\n .../time_series_covid19_deaths_global.csv          |  534 +-\\n .../time_series_covid19_recovered_global.csv       |  508 +-\\n who_covid_19_situation_reports/README.md           |    7 +\\n .../who_covid_19_sit_rep_time_series.csv           |  539 +-\\n 39 files changed, 63912 insertions(+), 7745 deletions(-)\\n create mode 100644 csse_covid_19_data/csse_covid_19_daily_reports/08-10-2020.csv\\n create mode 100644 csse_covid_19_data/csse_covid_19_daily_reports/08-11-2020.csv\\n create mode 100644 csse_covid_19_data/csse_covid_19_daily_reports/08-12-2020.csv\\n create mode 100644 csse_covid_19_data/csse_covid_19_daily_reports/08-13-2020.csv\\n create mode 100644 csse_covid_19_data/csse_covid_19_daily_reports/08-14-2020.csv\\n create mode 100644 csse_covid_19_data/csse_covid_19_daily_reports/08-15-2020.csv\\n create mode 100644 csse_covid_19_data/csse_covid_19_daily_reports/08-16-2020.csv\\n create mode 100644 csse_covid_19_data/csse_covid_19_daily_reports/08-17-2020.csv\\n create mode 100644 csse_covid_19_data/csse_covid_19_daily_reports/08-18-2020.csv\\n create mode 100644 csse_covid_19_data/csse_covid_19_daily_reports/08-19-2020.csv\\n create mode 100644 csse_covid_19_data/csse_covid_19_daily_reports/08-20-2020.csv\\n create mode 100644 csse_covid_19_data/csse_covid_19_daily_reports/08-21-2020.csv\\n create mode 100644 csse_covid_19_data/csse_covid_19_daily_reports/08-22-2020.csv\\n create mode 100644 csse_covid_19_data/csse_covid_19_daily_reports/08-23-2020.csv\\n create mode 100644 csse_covid_19_data/csse_covid_19_daily_reports_us/08-10-2020.csv\\n create mode 100644 csse_covid_19_data/csse_covid_19_daily_reports_us/08-11-2020.csv\\n create mode 100644 csse_covid_19_data/csse_covid_19_daily_reports_us/08-12-2020.csv\\n create mode 100644 csse_covid_19_data/csse_covid_19_daily_reports_us/08-13-2020.csv\\n create mode 100644 csse_covid_19_data/csse_covid_19_daily_reports_us/08-14-2020.csv\\n create mode 100644 csse_covid_19_data/csse_covid_19_daily_reports_us/08-15-2020.csv\\n create mode 100644 csse_covid_19_data/csse_covid_19_daily_reports_us/08-16-2020.csv\\n create mode 100644 csse_covid_19_data/csse_covid_19_daily_reports_us/08-17-2020.csv\\n create mode 100644 csse_covid_19_data/csse_covid_19_daily_reports_us/08-18-2020.csv\\n create mode 100644 csse_covid_19_data/csse_covid_19_daily_reports_us/08-19-2020.csv\\n create mode 100644 csse_covid_19_data/csse_covid_19_daily_reports_us/08-20-2020.csv\\n create mode 100644 csse_covid_19_data/csse_covid_19_daily_reports_us/08-21-2020.csv\\n create mode 100644 csse_covid_19_data/csse_covid_19_daily_reports_us/08-22-2020.csv\\n create mode 100644 csse_covid_19_data/csse_covid_19_daily_reports_us/08-23-2020.csv\\n'\n"
     ]
    }
   ],
   "source": [
    "git_pull = subprocess.Popen( \"git pull\" , \n",
    "                     cwd = os.path.dirname( '../data/raw/COVID-19/' ), \n",
    "                     shell = True, \n",
    "                     stdout = subprocess.PIPE, \n",
    "                     stderr = subprocess.PIPE )\n",
    "(out, error) = git_pull.communicate()\n",
    "\n",
    "\n",
    "print(\"Error : \" + str(error)) \n",
    "print(\"out : \" + str(out))"
   ]
  },
  {
   "cell_type": "markdown",
   "metadata": {},
   "source": [
    "# Building relational data model"
   ]
  },
  {
   "cell_type": "code",
   "execution_count": 3,
   "metadata": {},
   "outputs": [],
   "source": [
    "data_path='../data/raw/COVID-19/csse_covid_19_data/csse_covid_19_time_series/time_series_covid19_confirmed_global.csv'\n",
    "pd_raw=pd.read_csv(data_path)\n",
    "\n",
    "\n",
    "pd_db = pd_raw.rename(columns= {\n",
    "    'Country/Region': 'country',\n",
    "    'Province/State': 'state'\n",
    "}).drop(['Lat', 'Long'], axis=1)\n",
    "pd_db  = pd_db.fillna('no')\n"
   ]
  },
  {
   "cell_type": "code",
   "execution_count": 5,
   "metadata": {},
   "outputs": [],
   "source": [
    "pd_JH_data = pd_db.set_index(['state', 'country']).T.stack(level =[0,1]).reset_index()\n",
    "\n",
    "pd_JH_data = pd_JH_data.rename(columns ={\n",
    "    'level_0' : 'date',\n",
    "    0: 'confirmed'\n",
    "})\n",
    "\n",
    "pd_JH_data['date'] = pd.to_datetime(pd_JH_data['date'], format=\"%m/%d/%y\")\n",
    "\n",
    "pd_JH_data.to_csv('../data/processed/COVID_relational_confirmed.csv', sep = ';', index=False)\n",
    "\n",
    "pd_JH_data = pd_JH_data.sort_values('date').reset_index(drop=True).copy()"
   ]
  },
  {
   "cell_type": "markdown",
   "metadata": {},
   "source": [
    "# Groupby apply"
   ]
  },
  {
   "cell_type": "markdown",
   "metadata": {},
   "source": [
    "## Calculating doubling rate with groupby apply"
   ]
  },
  {
   "cell_type": "code",
   "execution_count": 6,
   "metadata": {},
   "outputs": [],
   "source": [
    "reg = linear_model.LinearRegression(fit_intercept=True)\n",
    "\n",
    "\n",
    "def get_doubling_time_via_regression(in_array):\n",
    "    ''' Use a linear regression to approximate the doubling rate\n",
    "\n",
    "        Parameters:\n",
    "        ----------\n",
    "        in_array : pandas.series\n",
    "\n",
    "        Returns:\n",
    "        ----------\n",
    "        Doubling rate: double\n",
    "    '''\n",
    "\n",
    "    y = np.array(in_array)\n",
    "    X = np.arange(-1,2).reshape(-1, 1)\n",
    "\n",
    "    assert len(in_array)==3\n",
    "    reg.fit(X,y)\n",
    "    intercept=reg.intercept_\n",
    "    slope=reg.coef_\n",
    "\n",
    "    return intercept/slope"
   ]
  },
  {
   "cell_type": "code",
   "execution_count": 7,
   "metadata": {},
   "outputs": [],
   "source": [
    "def rolling_reg(df_input: pd.DataFrame, col='confirmed', days_back=3):\n",
    "    result = df_input[col].rolling(\n",
    "            window=days_back, \n",
    "            min_periods=days_back).apply(get_doubling_time_via_regression, raw=False)\n",
    "    return result"
   ]
  },
  {
   "cell_type": "code",
   "execution_count": 8,
   "metadata": {},
   "outputs": [],
   "source": [
    "pd_DR_result = pd_JH_data[['state', 'country', 'confirmed']].groupby(['state', 'country']).apply(rolling_reg, 'confirmed').reset_index()\n",
    "pd_DR_result = pd_DR_result.rename(columns={\n",
    "    'confirmed': 'doubling_rate',\n",
    "    'level_2': 'index'\n",
    "})\n"
   ]
  },
  {
   "cell_type": "code",
   "execution_count": 9,
   "metadata": {},
   "outputs": [],
   "source": [
    "pd_JH_data = pd_JH_data.reset_index()"
   ]
  },
  {
   "cell_type": "code",
   "execution_count": 10,
   "metadata": {},
   "outputs": [],
   "source": [
    "pd_results_large = pd.merge(pd_JH_data, pd_DR_result[['index', 'doubling_rate']], on=['index'], how='left')"
   ]
  },
  {
   "cell_type": "markdown",
   "metadata": {},
   "source": [
    "## Filtering data with groupby apply"
   ]
  },
  {
   "cell_type": "code",
   "execution_count": 11,
   "metadata": {},
   "outputs": [],
   "source": [
    "def savgol_filter(df_input,column='confirmed',window=5):\n",
    "    ''' Savgol Filter which can be used in groupby apply function (data structure kept)\n",
    "\n",
    "        parameters:\n",
    "        ----------\n",
    "        df_input : pandas.series\n",
    "        column : str\n",
    "        window : int\n",
    "            used data points to calculate the filter result\n",
    "\n",
    "        Returns:\n",
    "        ----------\n",
    "        df_result: pd.DataFrame\n",
    "            the index of the df_input has to be preserved in result\n",
    "    '''\n",
    "\n",
    "    degree=1\n",
    "    df_result=df_input\n",
    "\n",
    "    filter_in=df_input[column].fillna(0) # attention with the neutral element here\n",
    "\n",
    "    result=signal.savgol_filter(np.array(filter_in),\n",
    "                           window, # window size used for filtering\n",
    "                           1)\n",
    "    df_result[str(column+'_filtered')]=result\n",
    "    return df_result"
   ]
  },
  {
   "cell_type": "code",
   "execution_count": 12,
   "metadata": {},
   "outputs": [],
   "source": [
    "pd_filtered_result = pd_results_large[['state', 'country', 'confirmed']].groupby(['state', 'country']).apply(savgol_filter).reset_index()"
   ]
  },
  {
   "cell_type": "code",
   "execution_count": 13,
   "metadata": {},
   "outputs": [
    {
     "data": {
      "text/html": [
       "<div>\n",
       "<style scoped>\n",
       "    .dataframe tbody tr th:only-of-type {\n",
       "        vertical-align: middle;\n",
       "    }\n",
       "\n",
       "    .dataframe tbody tr th {\n",
       "        vertical-align: top;\n",
       "    }\n",
       "\n",
       "    .dataframe thead th {\n",
       "        text-align: right;\n",
       "    }\n",
       "</style>\n",
       "<table border=\"1\" class=\"dataframe\">\n",
       "  <thead>\n",
       "    <tr style=\"text-align: right;\">\n",
       "      <th></th>\n",
       "      <th>index</th>\n",
       "      <th>date</th>\n",
       "      <th>state</th>\n",
       "      <th>country</th>\n",
       "      <th>confirmed</th>\n",
       "      <th>doubling_rate</th>\n",
       "      <th>confirmed_filtered</th>\n",
       "    </tr>\n",
       "  </thead>\n",
       "  <tbody>\n",
       "    <tr>\n",
       "      <th>0</th>\n",
       "      <td>0</td>\n",
       "      <td>2020-01-22</td>\n",
       "      <td>Alberta</td>\n",
       "      <td>Canada</td>\n",
       "      <td>0.0</td>\n",
       "      <td>NaN</td>\n",
       "      <td>0.0</td>\n",
       "    </tr>\n",
       "    <tr>\n",
       "      <th>1</th>\n",
       "      <td>1</td>\n",
       "      <td>2020-01-22</td>\n",
       "      <td>no</td>\n",
       "      <td>Korea, South</td>\n",
       "      <td>1.0</td>\n",
       "      <td>NaN</td>\n",
       "      <td>0.8</td>\n",
       "    </tr>\n",
       "    <tr>\n",
       "      <th>2</th>\n",
       "      <td>2</td>\n",
       "      <td>2020-01-22</td>\n",
       "      <td>no</td>\n",
       "      <td>Kosovo</td>\n",
       "      <td>0.0</td>\n",
       "      <td>NaN</td>\n",
       "      <td>0.0</td>\n",
       "    </tr>\n",
       "    <tr>\n",
       "      <th>3</th>\n",
       "      <td>3</td>\n",
       "      <td>2020-01-22</td>\n",
       "      <td>no</td>\n",
       "      <td>Kuwait</td>\n",
       "      <td>0.0</td>\n",
       "      <td>NaN</td>\n",
       "      <td>0.0</td>\n",
       "    </tr>\n",
       "    <tr>\n",
       "      <th>4</th>\n",
       "      <td>4</td>\n",
       "      <td>2020-01-22</td>\n",
       "      <td>no</td>\n",
       "      <td>Kyrgyzstan</td>\n",
       "      <td>0.0</td>\n",
       "      <td>NaN</td>\n",
       "      <td>0.0</td>\n",
       "    </tr>\n",
       "  </tbody>\n",
       "</table>\n",
       "</div>"
      ],
      "text/plain": [
       "   index       date    state       country  confirmed  doubling_rate  \\\n",
       "0      0 2020-01-22  Alberta        Canada        0.0            NaN   \n",
       "1      1 2020-01-22       no  Korea, South        1.0            NaN   \n",
       "2      2 2020-01-22       no        Kosovo        0.0            NaN   \n",
       "3      3 2020-01-22       no        Kuwait        0.0            NaN   \n",
       "4      4 2020-01-22       no    Kyrgyzstan        0.0            NaN   \n",
       "\n",
       "   confirmed_filtered  \n",
       "0                 0.0  \n",
       "1                 0.8  \n",
       "2                 0.0  \n",
       "3                 0.0  \n",
       "4                 0.0  "
      ]
     },
     "execution_count": 13,
     "metadata": {},
     "output_type": "execute_result"
    }
   ],
   "source": [
    "pd_results_large = pd.merge(pd_results_large, pd_filtered_result[['index', 'confirmed_filtered']], on=['index'], how='left')\n",
    "pd_results_large.head()"
   ]
  },
  {
   "cell_type": "markdown",
   "metadata": {},
   "source": [
    "## Calculating filtered doubling rate with groupby apply"
   ]
  },
  {
   "cell_type": "code",
   "execution_count": 14,
   "metadata": {},
   "outputs": [],
   "source": [
    "pd_filtered_dr = pd_results_large[['state', 'country', 'confirmed_filtered']].groupby(['state', 'country']).apply(rolling_reg, 'confirmed_filtered').reset_index()\n",
    "\n",
    "pd_filtered_dr = pd_filtered_dr.rename(columns={\n",
    "    'confirmed_filtered': 'doubling_rate_filtered',\n",
    "    'level_2': 'index'\n",
    "})\n"
   ]
  },
  {
   "cell_type": "code",
   "execution_count": 15,
   "metadata": {},
   "outputs": [
    {
     "data": {
      "text/html": [
       "<div>\n",
       "<style scoped>\n",
       "    .dataframe tbody tr th:only-of-type {\n",
       "        vertical-align: middle;\n",
       "    }\n",
       "\n",
       "    .dataframe tbody tr th {\n",
       "        vertical-align: top;\n",
       "    }\n",
       "\n",
       "    .dataframe thead th {\n",
       "        text-align: right;\n",
       "    }\n",
       "</style>\n",
       "<table border=\"1\" class=\"dataframe\">\n",
       "  <thead>\n",
       "    <tr style=\"text-align: right;\">\n",
       "      <th></th>\n",
       "      <th>index</th>\n",
       "      <th>date</th>\n",
       "      <th>state</th>\n",
       "      <th>country</th>\n",
       "      <th>confirmed</th>\n",
       "      <th>doubling_rate</th>\n",
       "      <th>confirmed_filtered</th>\n",
       "      <th>doubling_rate_filtered</th>\n",
       "    </tr>\n",
       "  </thead>\n",
       "  <tbody>\n",
       "    <tr>\n",
       "      <th>0</th>\n",
       "      <td>0</td>\n",
       "      <td>2020-01-22</td>\n",
       "      <td>Alberta</td>\n",
       "      <td>Canada</td>\n",
       "      <td>0.0</td>\n",
       "      <td>NaN</td>\n",
       "      <td>0.0</td>\n",
       "      <td>NaN</td>\n",
       "    </tr>\n",
       "    <tr>\n",
       "      <th>1</th>\n",
       "      <td>1</td>\n",
       "      <td>2020-01-22</td>\n",
       "      <td>no</td>\n",
       "      <td>Korea, South</td>\n",
       "      <td>1.0</td>\n",
       "      <td>NaN</td>\n",
       "      <td>0.8</td>\n",
       "      <td>NaN</td>\n",
       "    </tr>\n",
       "    <tr>\n",
       "      <th>2</th>\n",
       "      <td>2</td>\n",
       "      <td>2020-01-22</td>\n",
       "      <td>no</td>\n",
       "      <td>Kosovo</td>\n",
       "      <td>0.0</td>\n",
       "      <td>NaN</td>\n",
       "      <td>0.0</td>\n",
       "      <td>NaN</td>\n",
       "    </tr>\n",
       "    <tr>\n",
       "      <th>3</th>\n",
       "      <td>3</td>\n",
       "      <td>2020-01-22</td>\n",
       "      <td>no</td>\n",
       "      <td>Kuwait</td>\n",
       "      <td>0.0</td>\n",
       "      <td>NaN</td>\n",
       "      <td>0.0</td>\n",
       "      <td>NaN</td>\n",
       "    </tr>\n",
       "    <tr>\n",
       "      <th>4</th>\n",
       "      <td>4</td>\n",
       "      <td>2020-01-22</td>\n",
       "      <td>no</td>\n",
       "      <td>Kyrgyzstan</td>\n",
       "      <td>0.0</td>\n",
       "      <td>NaN</td>\n",
       "      <td>0.0</td>\n",
       "      <td>NaN</td>\n",
       "    </tr>\n",
       "  </tbody>\n",
       "</table>\n",
       "</div>"
      ],
      "text/plain": [
       "   index       date    state       country  confirmed  doubling_rate  \\\n",
       "0      0 2020-01-22  Alberta        Canada        0.0            NaN   \n",
       "1      1 2020-01-22       no  Korea, South        1.0            NaN   \n",
       "2      2 2020-01-22       no        Kosovo        0.0            NaN   \n",
       "3      3 2020-01-22       no        Kuwait        0.0            NaN   \n",
       "4      4 2020-01-22       no    Kyrgyzstan        0.0            NaN   \n",
       "\n",
       "   confirmed_filtered  doubling_rate_filtered  \n",
       "0                 0.0                     NaN  \n",
       "1                 0.8                     NaN  \n",
       "2                 0.0                     NaN  \n",
       "3                 0.0                     NaN  \n",
       "4                 0.0                     NaN  "
      ]
     },
     "execution_count": 15,
     "metadata": {},
     "output_type": "execute_result"
    }
   ],
   "source": [
    "pd_results_large = pd.merge(pd_results_large, pd_filtered_dr[['index', 'doubling_rate_filtered']], on=['index'], how='left')\n",
    "pd_results_large.head()"
   ]
  },
  {
   "cell_type": "code",
   "execution_count": 16,
   "metadata": {},
   "outputs": [],
   "source": [
    "mask = pd_results_large['confirmed'] > 100\n",
    "pd_results_large['doubling_rate_filtered'] = pd_results_large['doubling_rate_filtered'].where(mask, other=np.NaN)"
   ]
  },
  {
   "cell_type": "code",
   "execution_count": 46,
   "metadata": {},
   "outputs": [],
   "source": [
    "pd_results_large = pd_results_large.rename(columns= {\n",
    "    'doubling_rate_filtered': 'confirmed_filtered_DR',\n",
    "    'doubling_rate': 'confirmed_DR'\n",
    "})\n",
    "pd_results_large.to_csv('../data/processed/COVID_final_set.csv', sep = ';', index=False)"
   ]
  },
  {
   "cell_type": "code",
   "execution_count": 20,
   "metadata": {},
   "outputs": [],
   "source": [
    "country_list = ['US', 'Germany', 'Italy']"
   ]
  },
  {
   "cell_type": "code",
   "execution_count": 44,
   "metadata": {},
   "outputs": [
    {
     "data": {
      "application/vnd.plotly.v1+json": {
       "config": {
        "plotlyServerURL": "https://plot.ly"
       },
       "data": [
        {
         "line": {
          "width": 2
         },
         "marker": {
          "size": 4
         },
         "mode": "markers+lines",
         "name": "US",
         "opacity": 0.9,
         "type": "scatter",
         "x": [
          "2020-01-22T00:00:00",
          "2020-01-23T00:00:00",
          "2020-01-24T00:00:00",
          "2020-01-25T00:00:00",
          "2020-01-26T00:00:00",
          "2020-01-27T00:00:00",
          "2020-01-28T00:00:00",
          "2020-01-29T00:00:00",
          "2020-01-30T00:00:00",
          "2020-01-31T00:00:00",
          "2020-02-01T00:00:00",
          "2020-02-02T00:00:00",
          "2020-02-03T00:00:00",
          "2020-02-04T00:00:00",
          "2020-02-05T00:00:00",
          "2020-02-06T00:00:00",
          "2020-02-07T00:00:00",
          "2020-02-08T00:00:00",
          "2020-02-09T00:00:00",
          "2020-02-10T00:00:00",
          "2020-02-11T00:00:00",
          "2020-02-12T00:00:00",
          "2020-02-13T00:00:00",
          "2020-02-14T00:00:00",
          "2020-02-15T00:00:00",
          "2020-02-16T00:00:00",
          "2020-02-17T00:00:00",
          "2020-02-18T00:00:00",
          "2020-02-19T00:00:00",
          "2020-02-20T00:00:00",
          "2020-02-21T00:00:00",
          "2020-02-22T00:00:00",
          "2020-02-23T00:00:00",
          "2020-02-24T00:00:00",
          "2020-02-25T00:00:00",
          "2020-02-26T00:00:00",
          "2020-02-27T00:00:00",
          "2020-02-28T00:00:00",
          "2020-02-29T00:00:00",
          "2020-03-01T00:00:00",
          "2020-03-02T00:00:00",
          "2020-03-03T00:00:00",
          "2020-03-04T00:00:00",
          "2020-03-05T00:00:00",
          "2020-03-06T00:00:00",
          "2020-03-07T00:00:00",
          "2020-03-08T00:00:00",
          "2020-03-09T00:00:00",
          "2020-03-10T00:00:00",
          "2020-03-11T00:00:00",
          "2020-03-12T00:00:00",
          "2020-03-13T00:00:00",
          "2020-03-14T00:00:00",
          "2020-03-15T00:00:00",
          "2020-03-16T00:00:00",
          "2020-03-17T00:00:00",
          "2020-03-18T00:00:00",
          "2020-03-19T00:00:00",
          "2020-03-20T00:00:00",
          "2020-03-21T00:00:00",
          "2020-03-22T00:00:00",
          "2020-03-23T00:00:00",
          "2020-03-24T00:00:00",
          "2020-03-25T00:00:00",
          "2020-03-26T00:00:00",
          "2020-03-27T00:00:00",
          "2020-03-28T00:00:00",
          "2020-03-29T00:00:00",
          "2020-03-30T00:00:00",
          "2020-03-31T00:00:00",
          "2020-04-01T00:00:00",
          "2020-04-02T00:00:00",
          "2020-04-03T00:00:00",
          "2020-04-04T00:00:00",
          "2020-04-05T00:00:00",
          "2020-04-06T00:00:00",
          "2020-04-07T00:00:00",
          "2020-04-08T00:00:00",
          "2020-04-09T00:00:00",
          "2020-04-10T00:00:00",
          "2020-04-11T00:00:00",
          "2020-04-12T00:00:00",
          "2020-04-13T00:00:00",
          "2020-04-14T00:00:00",
          "2020-04-15T00:00:00",
          "2020-04-16T00:00:00",
          "2020-04-17T00:00:00",
          "2020-04-18T00:00:00",
          "2020-04-19T00:00:00",
          "2020-04-20T00:00:00",
          "2020-04-21T00:00:00",
          "2020-04-22T00:00:00",
          "2020-04-23T00:00:00",
          "2020-04-24T00:00:00",
          "2020-04-25T00:00:00",
          "2020-04-26T00:00:00",
          "2020-04-27T00:00:00",
          "2020-04-28T00:00:00",
          "2020-04-29T00:00:00",
          "2020-04-30T00:00:00",
          "2020-05-01T00:00:00",
          "2020-05-02T00:00:00",
          "2020-05-03T00:00:00",
          "2020-05-04T00:00:00",
          "2020-05-05T00:00:00",
          "2020-05-06T00:00:00",
          "2020-05-07T00:00:00",
          "2020-05-08T00:00:00",
          "2020-05-09T00:00:00",
          "2020-05-10T00:00:00",
          "2020-05-11T00:00:00",
          "2020-05-12T00:00:00",
          "2020-05-13T00:00:00",
          "2020-05-14T00:00:00",
          "2020-05-15T00:00:00",
          "2020-05-16T00:00:00",
          "2020-05-17T00:00:00",
          "2020-05-18T00:00:00",
          "2020-05-19T00:00:00",
          "2020-05-20T00:00:00",
          "2020-05-21T00:00:00",
          "2020-05-22T00:00:00",
          "2020-05-23T00:00:00",
          "2020-05-24T00:00:00",
          "2020-05-25T00:00:00",
          "2020-05-26T00:00:00",
          "2020-05-27T00:00:00",
          "2020-05-28T00:00:00",
          "2020-05-29T00:00:00",
          "2020-05-30T00:00:00",
          "2020-05-31T00:00:00",
          "2020-06-01T00:00:00",
          "2020-06-02T00:00:00",
          "2020-06-03T00:00:00",
          "2020-06-04T00:00:00",
          "2020-06-05T00:00:00",
          "2020-06-06T00:00:00",
          "2020-06-07T00:00:00",
          "2020-06-08T00:00:00",
          "2020-06-09T00:00:00",
          "2020-06-10T00:00:00",
          "2020-06-11T00:00:00",
          "2020-06-12T00:00:00",
          "2020-06-13T00:00:00",
          "2020-06-14T00:00:00",
          "2020-06-15T00:00:00",
          "2020-06-16T00:00:00",
          "2020-06-17T00:00:00",
          "2020-06-18T00:00:00",
          "2020-06-19T00:00:00",
          "2020-06-20T00:00:00",
          "2020-06-21T00:00:00",
          "2020-06-22T00:00:00",
          "2020-06-23T00:00:00",
          "2020-06-24T00:00:00",
          "2020-06-25T00:00:00",
          "2020-06-26T00:00:00",
          "2020-06-27T00:00:00",
          "2020-06-28T00:00:00",
          "2020-06-29T00:00:00",
          "2020-06-30T00:00:00",
          "2020-07-01T00:00:00",
          "2020-07-02T00:00:00",
          "2020-07-03T00:00:00",
          "2020-07-04T00:00:00",
          "2020-07-05T00:00:00",
          "2020-07-06T00:00:00",
          "2020-07-07T00:00:00",
          "2020-07-08T00:00:00",
          "2020-07-09T00:00:00",
          "2020-07-10T00:00:00",
          "2020-07-11T00:00:00",
          "2020-07-12T00:00:00",
          "2020-07-13T00:00:00",
          "2020-07-14T00:00:00",
          "2020-07-15T00:00:00",
          "2020-07-16T00:00:00",
          "2020-07-17T00:00:00",
          "2020-07-18T00:00:00",
          "2020-07-19T00:00:00",
          "2020-07-20T00:00:00",
          "2020-07-21T00:00:00",
          "2020-07-22T00:00:00",
          "2020-07-23T00:00:00",
          "2020-07-24T00:00:00",
          "2020-07-25T00:00:00",
          "2020-07-26T00:00:00",
          "2020-07-27T00:00:00",
          "2020-07-28T00:00:00",
          "2020-07-29T00:00:00",
          "2020-07-30T00:00:00",
          "2020-07-31T00:00:00",
          "2020-08-01T00:00:00",
          "2020-08-02T00:00:00",
          "2020-08-03T00:00:00",
          "2020-08-04T00:00:00",
          "2020-08-05T00:00:00",
          "2020-08-06T00:00:00",
          "2020-08-07T00:00:00",
          "2020-08-08T00:00:00",
          "2020-08-09T00:00:00",
          "2020-08-10T00:00:00",
          "2020-08-11T00:00:00",
          "2020-08-12T00:00:00",
          "2020-08-13T00:00:00",
          "2020-08-14T00:00:00",
          "2020-08-15T00:00:00",
          "2020-08-16T00:00:00",
          "2020-08-17T00:00:00",
          "2020-08-18T00:00:00",
          "2020-08-19T00:00:00",
          "2020-08-20T00:00:00",
          "2020-08-21T00:00:00",
          "2020-08-22T00:00:00",
          "2020-08-23T00:00:00"
         ],
         "y": [
          null,
          null,
          2.666666666666667,
          3.333333333333335,
          2.0000000000000004,
          2.666666666666668,
          null,
          null,
          null,
          5.66666666666667,
          4.444444444444446,
          15.333333333333337,
          6.000000000000001,
          6.66666666666667,
          null,
          null,
          null,
          null,
          null,
          null,
          22.66666666666667,
          23.333333333333336,
          24.666666666666675,
          25.33333333333334,
          null,
          null,
          null,
          null,
          null,
          null,
          13.66666666666667,
          14.333333333333337,
          null,
          null,
          null,
          null,
          30.666666666666675,
          31.33333333333334,
          4.666666666666669,
          3.333333333333334,
          2.4597701149425295,
          2.418604651162792,
          3.0065359477124196,
          2.316831683168318,
          2.824858757062148,
          2.99795501022495,
          2.940320232896654,
          4.78754578754579,
          4.310256410256413,
          2.642937853107345,
          2.6517647058823544,
          3.0706106870229015,
          3.3552330022918277,
          6.572133168927251,
          4.562863534675618,
          2.8299191091501217,
          2.8407578084997454,
          2.42972388556221,
          2.685918071072399,
          3.3973831562107195,
          3.6906595714885877,
          3.8256495607951932,
          4.31503775408252,
          4.924326352923518,
          4.542246239033992,
          4.645960446518136,
          5.414292485122968,
          6.260114567546046,
          6.988221205111803,
          6.911424903722724,
          7.322433233653092,
          7.724522539932483,
          7.863740870253337,
          8.509947917466855,
          10.092080970952274,
          11.758896075294993,
          12.16813695471072,
          12.751442002422463,
          12.963330825181847,
          13.59636862641683,
          15.640111028906352,
          18.00911589477458,
          20.63125572641954,
          22.247854432475116,
          21.707412617296708,
          21.15137265291255,
          20.922412087511592,
          22.943912224678627,
          26.832760195418587,
          28.356070114964073,
          29.584131361401266,
          30.169887908241172,
          26.94914311091137,
          24.751458918555933,
          26.203105434510398,
          30.98779079359842,
          38.552325504114,
          42.1988510638298,
          39.05534530784749,
          36.52700834660274,
          33.67804235707233,
          34.88717374033914,
          41.430445523468784,
          48.29485525640494,
          50.77822546078014,
          48.8917295362149,
          46.46024815888191,
          45.81090931105462,
          48.689510057769986,
          57.68865346433099,
          69.03310732708799,
          65.94263173273598,
          63.722134668273554,
          57.574047006347584,
          53.780625003937004,
          57.49729833402778,
          66.75413974228171,
          73.28642320489868,
          71.74480079586908,
          69.43552663292361,
          63.45034782962453,
          64.00950918592751,
          69.96259391407771,
          76.46774243987869,
          82.94049174287345,
          88.20003168400486,
          90.88995919099513,
          83.16694649244474,
          73.15551892474484,
          71.6895861420926,
          80.14881274421404,
          96.51267051299254,
          95.04099346405232,
          89.93521487610055,
          89.94632323868085,
          80.72888888888893,
          79.36760085634056,
          95.147270345748,
          110.63931409928115,
          110.40584847973294,
          101.78571979137233,
          91.50624847598151,
          83.86285556476113,
          80.53536663653398,
          91.34558542676659,
          106.08405092358089,
          97.56136669357014,
          86.81183013965577,
          81.09878578923701,
          73.95377444944819,
          69.2211306419219,
          76.13788831069363,
          80.1450694749159,
          70.41122471750556,
          66.95111922384002,
          63.73842369800024,
          56.95171976318018,
          56.08694861300593,
          60.970129186409125,
          63.43229406326823,
          59.90330059695746,
          54.44125739441464,
          50.90516716366104,
          50.87853172872613,
          56.31267978600425,
          59.36688143298214,
          60.93636734292184,
          56.03482132083502,
          50.50706726689261,
          50.164921322740916,
          47.6115427077133,
          49.74570307107678,
          54.45299553989628,
          55.90716557277219,
          53.17599027102157,
          50.933902309300294,
          48.44568171915095,
          48.03690537789039,
          53.8991985568108,
          59.114994623441824,
          61.220091294565606,
          60.90806742304549,
          57.60810864022525,
          56.86590976922986,
          56.74446082906165,
          58.65127883138074,
          68.78775097754935,
          76.04425009203807,
          70.22216770387818,
          63.78340468610879,
          63.77205608666108,
          66.5265692260253,
          72.61262810865048,
          87.05901098383072,
          100.43109408845095,
          91.68572576152162,
          86.44319589185926,
          85.7973013813088,
          82.85879042407278,
          86.42270748977532,
          96.88483708179375,
          104.60617180292526,
          105.73550333527086,
          99.87942388029761,
          96.44285846867754,
          90.69685171916682,
          94.60713978034649,
          119.14518513578108,
          139.99224987039923,
          137.40181558779344,
          119.85970702776355,
          120.93700531912958,
          120.2684254425702,
          120.54181811683559,
          143.13491451749462
         ]
        },
        {
         "line": {
          "width": 2
         },
         "marker": {
          "size": 4
         },
         "mode": "markers+lines",
         "name": "Germany",
         "opacity": 0.9,
         "type": "scatter",
         "x": [
          "2020-01-22T00:00:00",
          "2020-01-23T00:00:00",
          "2020-01-24T00:00:00",
          "2020-01-25T00:00:00",
          "2020-01-26T00:00:00",
          "2020-01-27T00:00:00",
          "2020-01-28T00:00:00",
          "2020-01-29T00:00:00",
          "2020-01-30T00:00:00",
          "2020-01-31T00:00:00",
          "2020-02-01T00:00:00",
          "2020-02-02T00:00:00",
          "2020-02-03T00:00:00",
          "2020-02-04T00:00:00",
          "2020-02-05T00:00:00",
          "2020-02-06T00:00:00",
          "2020-02-07T00:00:00",
          "2020-02-08T00:00:00",
          "2020-02-09T00:00:00",
          "2020-02-10T00:00:00",
          "2020-02-11T00:00:00",
          "2020-02-12T00:00:00",
          "2020-02-13T00:00:00",
          "2020-02-14T00:00:00",
          "2020-02-15T00:00:00",
          "2020-02-16T00:00:00",
          "2020-02-17T00:00:00",
          "2020-02-18T00:00:00",
          "2020-02-19T00:00:00",
          "2020-02-20T00:00:00",
          "2020-02-21T00:00:00",
          "2020-02-22T00:00:00",
          "2020-02-23T00:00:00",
          "2020-02-24T00:00:00",
          "2020-02-25T00:00:00",
          "2020-02-26T00:00:00",
          "2020-02-27T00:00:00",
          "2020-02-28T00:00:00",
          "2020-02-29T00:00:00",
          "2020-03-01T00:00:00",
          "2020-03-02T00:00:00",
          "2020-03-03T00:00:00",
          "2020-03-04T00:00:00",
          "2020-03-05T00:00:00",
          "2020-03-06T00:00:00",
          "2020-03-07T00:00:00",
          "2020-03-08T00:00:00",
          "2020-03-09T00:00:00",
          "2020-03-10T00:00:00",
          "2020-03-11T00:00:00",
          "2020-03-12T00:00:00",
          "2020-03-13T00:00:00",
          "2020-03-14T00:00:00",
          "2020-03-15T00:00:00",
          "2020-03-16T00:00:00",
          "2020-03-17T00:00:00",
          "2020-03-18T00:00:00",
          "2020-03-19T00:00:00",
          "2020-03-20T00:00:00",
          "2020-03-21T00:00:00",
          "2020-03-22T00:00:00",
          "2020-03-23T00:00:00",
          "2020-03-24T00:00:00",
          "2020-03-25T00:00:00",
          "2020-03-26T00:00:00",
          "2020-03-27T00:00:00",
          "2020-03-28T00:00:00",
          "2020-03-29T00:00:00",
          "2020-03-30T00:00:00",
          "2020-03-31T00:00:00",
          "2020-04-01T00:00:00",
          "2020-04-02T00:00:00",
          "2020-04-03T00:00:00",
          "2020-04-04T00:00:00",
          "2020-04-05T00:00:00",
          "2020-04-06T00:00:00",
          "2020-04-07T00:00:00",
          "2020-04-08T00:00:00",
          "2020-04-09T00:00:00",
          "2020-04-10T00:00:00",
          "2020-04-11T00:00:00",
          "2020-04-12T00:00:00",
          "2020-04-13T00:00:00",
          "2020-04-14T00:00:00",
          "2020-04-15T00:00:00",
          "2020-04-16T00:00:00",
          "2020-04-17T00:00:00",
          "2020-04-18T00:00:00",
          "2020-04-19T00:00:00",
          "2020-04-20T00:00:00",
          "2020-04-21T00:00:00",
          "2020-04-22T00:00:00",
          "2020-04-23T00:00:00",
          "2020-04-24T00:00:00",
          "2020-04-25T00:00:00",
          "2020-04-26T00:00:00",
          "2020-04-27T00:00:00",
          "2020-04-28T00:00:00",
          "2020-04-29T00:00:00",
          "2020-04-30T00:00:00",
          "2020-05-01T00:00:00",
          "2020-05-02T00:00:00",
          "2020-05-03T00:00:00",
          "2020-05-04T00:00:00",
          "2020-05-05T00:00:00",
          "2020-05-06T00:00:00",
          "2020-05-07T00:00:00",
          "2020-05-08T00:00:00",
          "2020-05-09T00:00:00",
          "2020-05-10T00:00:00",
          "2020-05-11T00:00:00",
          "2020-05-12T00:00:00",
          "2020-05-13T00:00:00",
          "2020-05-14T00:00:00",
          "2020-05-15T00:00:00",
          "2020-05-16T00:00:00",
          "2020-05-17T00:00:00",
          "2020-05-18T00:00:00",
          "2020-05-19T00:00:00",
          "2020-05-20T00:00:00",
          "2020-05-21T00:00:00",
          "2020-05-22T00:00:00",
          "2020-05-23T00:00:00",
          "2020-05-24T00:00:00",
          "2020-05-25T00:00:00",
          "2020-05-26T00:00:00",
          "2020-05-27T00:00:00",
          "2020-05-28T00:00:00",
          "2020-05-29T00:00:00",
          "2020-05-30T00:00:00",
          "2020-05-31T00:00:00",
          "2020-06-01T00:00:00",
          "2020-06-02T00:00:00",
          "2020-06-03T00:00:00",
          "2020-06-04T00:00:00",
          "2020-06-05T00:00:00",
          "2020-06-06T00:00:00",
          "2020-06-07T00:00:00",
          "2020-06-08T00:00:00",
          "2020-06-09T00:00:00",
          "2020-06-10T00:00:00",
          "2020-06-11T00:00:00",
          "2020-06-12T00:00:00",
          "2020-06-13T00:00:00",
          "2020-06-14T00:00:00",
          "2020-06-15T00:00:00",
          "2020-06-16T00:00:00",
          "2020-06-17T00:00:00",
          "2020-06-18T00:00:00",
          "2020-06-19T00:00:00",
          "2020-06-20T00:00:00",
          "2020-06-21T00:00:00",
          "2020-06-22T00:00:00",
          "2020-06-23T00:00:00",
          "2020-06-24T00:00:00",
          "2020-06-25T00:00:00",
          "2020-06-26T00:00:00",
          "2020-06-27T00:00:00",
          "2020-06-28T00:00:00",
          "2020-06-29T00:00:00",
          "2020-06-30T00:00:00",
          "2020-07-01T00:00:00",
          "2020-07-02T00:00:00",
          "2020-07-03T00:00:00",
          "2020-07-04T00:00:00",
          "2020-07-05T00:00:00",
          "2020-07-06T00:00:00",
          "2020-07-07T00:00:00",
          "2020-07-08T00:00:00",
          "2020-07-09T00:00:00",
          "2020-07-10T00:00:00",
          "2020-07-11T00:00:00",
          "2020-07-12T00:00:00",
          "2020-07-13T00:00:00",
          "2020-07-14T00:00:00",
          "2020-07-15T00:00:00",
          "2020-07-16T00:00:00",
          "2020-07-17T00:00:00",
          "2020-07-18T00:00:00",
          "2020-07-19T00:00:00",
          "2020-07-20T00:00:00",
          "2020-07-21T00:00:00",
          "2020-07-22T00:00:00",
          "2020-07-23T00:00:00",
          "2020-07-24T00:00:00",
          "2020-07-25T00:00:00",
          "2020-07-26T00:00:00",
          "2020-07-27T00:00:00",
          "2020-07-28T00:00:00",
          "2020-07-29T00:00:00",
          "2020-07-30T00:00:00",
          "2020-07-31T00:00:00",
          "2020-08-01T00:00:00",
          "2020-08-02T00:00:00",
          "2020-08-03T00:00:00",
          "2020-08-04T00:00:00",
          "2020-08-05T00:00:00",
          "2020-08-06T00:00:00",
          "2020-08-07T00:00:00",
          "2020-08-08T00:00:00",
          "2020-08-09T00:00:00",
          "2020-08-10T00:00:00",
          "2020-08-11T00:00:00",
          "2020-08-12T00:00:00",
          "2020-08-13T00:00:00",
          "2020-08-14T00:00:00",
          "2020-08-15T00:00:00",
          "2020-08-16T00:00:00",
          "2020-08-17T00:00:00",
          "2020-08-18T00:00:00",
          "2020-08-19T00:00:00",
          "2020-08-20T00:00:00",
          "2020-08-21T00:00:00",
          "2020-08-22T00:00:00",
          "2020-08-23T00:00:00"
         ],
         "y": [
          null,
          null,
          null,
          null,
          null,
          0.6666666666666667,
          0.8333333333333337,
          2.000000000000001,
          null,
          8.666666666666668,
          2.833333333333335,
          3.066666666666668,
          5.000000000000001,
          11.333333333333336,
          null,
          null,
          24.666666666666675,
          25.33333333333334,
          26.666666666666675,
          27.33333333333334,
          14.66666666666667,
          15.333333333333337,
          null,
          null,
          null,
          null,
          null,
          null,
          null,
          null,
          null,
          null,
          null,
          null,
          32.66666666666667,
          3.636363636363637,
          2.06896551724138,
          3.8412698412698427,
          3.4949494949494957,
          2.0894308943089435,
          3.0666666666666678,
          4.8989898989899,
          3.9935275080906165,
          2.191142191142192,
          2.31045751633987,
          4.103049421661411,
          4.520720720720722,
          5.331564986737402,
          5.872102318145484,
          4.135701275045538,
          5.843263553408484,
          2.890398038106018,
          2.749102512963703,
          4.419811320754719,
          4.379605508001491,
          4.298863855189679,
          3.80560501153973,
          4.057837154324044,
          4.209989806320084,
          5.5496880893660245,
          8.880132669983418,
          7.417994057187396,
          7.142035416409882,
          8.012983347445669,
          6.954407109812518,
          6.501919102450548,
          7.390370962661434,
          10.13667141838917,
          13.541893362350386,
          13.781392635299772,
          13.14068141136495,
          12.037270907130761,
          12.735505882943231,
          16.052693692098906,
          21.372452774059212,
          27.427355122219183,
          27.51193633952256,
          21.792178996170136,
          21.495848386892323,
          26.565107981220663,
          36.19840443981964,
          43.9829902047041,
          49.42344435837853,
          74.0437470280552,
          56.42441073844624,
          42.46831782089711,
          41.52598836042546,
          49.89806283959369,
          75.68400668955199,
          78.00000000000004,
          94.52633837571078,
          82.98520792631875,
          62.29406090671079,
          70.29433846625301,
          91.53684003152092,
          112.90316371947554,
          140.47245731254642,
          148.28509181450363,
          115.11662471533025,
          104.28586804434401,
          128.34909377462571,
          167.53592100783112,
          207.81684520058815,
          279.48410689170197,
          247.61628195582045,
          166.27562189054734,
          138.83587838767372,
          139.6482550151141,
          179.9866244280184,
          265.3193906532405,
          274.6427050053249,
          267.092879256966,
          227.70258431887876,
          266.129558786024,
          307.67048458149793,
          274.96755625327063,
          309.48004694835686,
          441.1113892365458,
          251.09912467471028,
          184.8081859174472,
          287.0860820595335,
          289.5198059822151,
          372.1706390328154,
          582.5501618122979,
          587.311617806732,
          414.47094801223255,
          392.00865800865813,
          364.73895582329334,
          260.6781115879829,
          368.1148036253777,
          750.7117486338799,
          905.6674897119342,
          783.0604122245915,
          697.7786211258698,
          621.1039910061835,
          459.5408883354091,
          378.2181322426722,
          448.8490718321229,
          563.7926150733437,
          492.38536155202826,
          902.5617433414048,
          2017.005405405406,
          530.7187500000001,
          649.5185185185188,
          1283.1301369863015,
          903.5614457831331,
          511.7638510445052,
          408.19812002892263,
          241.394249201278,
          223.68534906588008,
          446.10082063306004,
          392.08016443987674,
          348.3363691560413,
          317.61589403973517,
          348.81776971894845,
          433.01309390198287,
          332.06180257510744,
          356.86292548298076,
          591.7676306443432,
          666.88698630137,
          538.0717241379313,
          459.3443008225618,
          411.54131652661084,
          442.72303645246154,
          475.3204508856685,
          530.7321668909827,
          456.3394919168593,
          482.8699186991873,
          624.7832020997378,
          603.8936170212768,
          628.7856766719327,
          563.1280602636537,
          680.2498580352075,
          848.9851380042464,
          745.567970204842,
          564.8131455399061,
          404.28973843058367,
          348.8513708513709,
          413.88046448087437,
          586.672463768116,
          451.2317389692252,
          413.9694501018332,
          428.5439887837365,
          351.0160366552121,
          304.27121999505084,
          294.33643521832505,
          394.99872286079204,
          495.6490807354119,
          398.3884615384615,
          289.80241748024184,
          228.22319474835896,
          226.11261018168742,
          286.14013605442193,
          513.7019894437677,
          382.36045810729365,
          263.74751243781105,
          212.80452880452887,
          193.57153625810346,
          206.5444071051369,
          231.80901287553652,
          397.06166056166063,
          271.11069574247153,
          194.0011841326229,
          186.84446334892957,
          161.17718594187042,
          151.64415643474317,
          202.5555052106933,
          369.1260964912283,
          203.79596142254374,
          145.58882107292007,
          151.81326236416064,
          144.83354350567473,
          139.23703480790456,
          181.18126378616853,
          319.1736063708761
         ]
        },
        {
         "line": {
          "width": 2
         },
         "marker": {
          "size": 4
         },
         "mode": "markers+lines",
         "name": "Italy",
         "opacity": 0.9,
         "type": "scatter",
         "x": [
          "2020-01-22T00:00:00",
          "2020-01-23T00:00:00",
          "2020-01-24T00:00:00",
          "2020-01-25T00:00:00",
          "2020-01-26T00:00:00",
          "2020-01-27T00:00:00",
          "2020-01-28T00:00:00",
          "2020-01-29T00:00:00",
          "2020-01-30T00:00:00",
          "2020-01-31T00:00:00",
          "2020-02-01T00:00:00",
          "2020-02-02T00:00:00",
          "2020-02-03T00:00:00",
          "2020-02-04T00:00:00",
          "2020-02-05T00:00:00",
          "2020-02-06T00:00:00",
          "2020-02-07T00:00:00",
          "2020-02-08T00:00:00",
          "2020-02-09T00:00:00",
          "2020-02-10T00:00:00",
          "2020-02-11T00:00:00",
          "2020-02-12T00:00:00",
          "2020-02-13T00:00:00",
          "2020-02-14T00:00:00",
          "2020-02-15T00:00:00",
          "2020-02-16T00:00:00",
          "2020-02-17T00:00:00",
          "2020-02-18T00:00:00",
          "2020-02-19T00:00:00",
          "2020-02-20T00:00:00",
          "2020-02-21T00:00:00",
          "2020-02-22T00:00:00",
          "2020-02-23T00:00:00",
          "2020-02-24T00:00:00",
          "2020-02-25T00:00:00",
          "2020-02-26T00:00:00",
          "2020-02-27T00:00:00",
          "2020-02-28T00:00:00",
          "2020-02-29T00:00:00",
          "2020-03-01T00:00:00",
          "2020-03-02T00:00:00",
          "2020-03-03T00:00:00",
          "2020-03-04T00:00:00",
          "2020-03-05T00:00:00",
          "2020-03-06T00:00:00",
          "2020-03-07T00:00:00",
          "2020-03-08T00:00:00",
          "2020-03-09T00:00:00",
          "2020-03-10T00:00:00",
          "2020-03-11T00:00:00",
          "2020-03-12T00:00:00",
          "2020-03-13T00:00:00",
          "2020-03-14T00:00:00",
          "2020-03-15T00:00:00",
          "2020-03-16T00:00:00",
          "2020-03-17T00:00:00",
          "2020-03-18T00:00:00",
          "2020-03-19T00:00:00",
          "2020-03-20T00:00:00",
          "2020-03-21T00:00:00",
          "2020-03-22T00:00:00",
          "2020-03-23T00:00:00",
          "2020-03-24T00:00:00",
          "2020-03-25T00:00:00",
          "2020-03-26T00:00:00",
          "2020-03-27T00:00:00",
          "2020-03-28T00:00:00",
          "2020-03-29T00:00:00",
          "2020-03-30T00:00:00",
          "2020-03-31T00:00:00",
          "2020-04-01T00:00:00",
          "2020-04-02T00:00:00",
          "2020-04-03T00:00:00",
          "2020-04-04T00:00:00",
          "2020-04-05T00:00:00",
          "2020-04-06T00:00:00",
          "2020-04-07T00:00:00",
          "2020-04-08T00:00:00",
          "2020-04-09T00:00:00",
          "2020-04-10T00:00:00",
          "2020-04-11T00:00:00",
          "2020-04-12T00:00:00",
          "2020-04-13T00:00:00",
          "2020-04-14T00:00:00",
          "2020-04-15T00:00:00",
          "2020-04-16T00:00:00",
          "2020-04-17T00:00:00",
          "2020-04-18T00:00:00",
          "2020-04-19T00:00:00",
          "2020-04-20T00:00:00",
          "2020-04-21T00:00:00",
          "2020-04-22T00:00:00",
          "2020-04-23T00:00:00",
          "2020-04-24T00:00:00",
          "2020-04-25T00:00:00",
          "2020-04-26T00:00:00",
          "2020-04-27T00:00:00",
          "2020-04-28T00:00:00",
          "2020-04-29T00:00:00",
          "2020-04-30T00:00:00",
          "2020-05-01T00:00:00",
          "2020-05-02T00:00:00",
          "2020-05-03T00:00:00",
          "2020-05-04T00:00:00",
          "2020-05-05T00:00:00",
          "2020-05-06T00:00:00",
          "2020-05-07T00:00:00",
          "2020-05-08T00:00:00",
          "2020-05-09T00:00:00",
          "2020-05-10T00:00:00",
          "2020-05-11T00:00:00",
          "2020-05-12T00:00:00",
          "2020-05-13T00:00:00",
          "2020-05-14T00:00:00",
          "2020-05-15T00:00:00",
          "2020-05-16T00:00:00",
          "2020-05-17T00:00:00",
          "2020-05-18T00:00:00",
          "2020-05-19T00:00:00",
          "2020-05-20T00:00:00",
          "2020-05-21T00:00:00",
          "2020-05-22T00:00:00",
          "2020-05-23T00:00:00",
          "2020-05-24T00:00:00",
          "2020-05-25T00:00:00",
          "2020-05-26T00:00:00",
          "2020-05-27T00:00:00",
          "2020-05-28T00:00:00",
          "2020-05-29T00:00:00",
          "2020-05-30T00:00:00",
          "2020-05-31T00:00:00",
          "2020-06-01T00:00:00",
          "2020-06-02T00:00:00",
          "2020-06-03T00:00:00",
          "2020-06-04T00:00:00",
          "2020-06-05T00:00:00",
          "2020-06-06T00:00:00",
          "2020-06-07T00:00:00",
          "2020-06-08T00:00:00",
          "2020-06-09T00:00:00",
          "2020-06-10T00:00:00",
          "2020-06-11T00:00:00",
          "2020-06-12T00:00:00",
          "2020-06-13T00:00:00",
          "2020-06-14T00:00:00",
          "2020-06-15T00:00:00",
          "2020-06-16T00:00:00",
          "2020-06-17T00:00:00",
          "2020-06-18T00:00:00",
          "2020-06-19T00:00:00",
          "2020-06-20T00:00:00",
          "2020-06-21T00:00:00",
          "2020-06-22T00:00:00",
          "2020-06-23T00:00:00",
          "2020-06-24T00:00:00",
          "2020-06-25T00:00:00",
          "2020-06-26T00:00:00",
          "2020-06-27T00:00:00",
          "2020-06-28T00:00:00",
          "2020-06-29T00:00:00",
          "2020-06-30T00:00:00",
          "2020-07-01T00:00:00",
          "2020-07-02T00:00:00",
          "2020-07-03T00:00:00",
          "2020-07-04T00:00:00",
          "2020-07-05T00:00:00",
          "2020-07-06T00:00:00",
          "2020-07-07T00:00:00",
          "2020-07-08T00:00:00",
          "2020-07-09T00:00:00",
          "2020-07-10T00:00:00",
          "2020-07-11T00:00:00",
          "2020-07-12T00:00:00",
          "2020-07-13T00:00:00",
          "2020-07-14T00:00:00",
          "2020-07-15T00:00:00",
          "2020-07-16T00:00:00",
          "2020-07-17T00:00:00",
          "2020-07-18T00:00:00",
          "2020-07-19T00:00:00",
          "2020-07-20T00:00:00",
          "2020-07-21T00:00:00",
          "2020-07-22T00:00:00",
          "2020-07-23T00:00:00",
          "2020-07-24T00:00:00",
          "2020-07-25T00:00:00",
          "2020-07-26T00:00:00",
          "2020-07-27T00:00:00",
          "2020-07-28T00:00:00",
          "2020-07-29T00:00:00",
          "2020-07-30T00:00:00",
          "2020-07-31T00:00:00",
          "2020-08-01T00:00:00",
          "2020-08-02T00:00:00",
          "2020-08-03T00:00:00",
          "2020-08-04T00:00:00",
          "2020-08-05T00:00:00",
          "2020-08-06T00:00:00",
          "2020-08-07T00:00:00",
          "2020-08-08T00:00:00",
          "2020-08-09T00:00:00",
          "2020-08-10T00:00:00",
          "2020-08-11T00:00:00",
          "2020-08-12T00:00:00",
          "2020-08-13T00:00:00",
          "2020-08-14T00:00:00",
          "2020-08-15T00:00:00",
          "2020-08-16T00:00:00",
          "2020-08-17T00:00:00",
          "2020-08-18T00:00:00",
          "2020-08-19T00:00:00",
          "2020-08-20T00:00:00",
          "2020-08-21T00:00:00",
          "2020-08-22T00:00:00",
          "2020-08-23T00:00:00"
         ],
         "y": [
          null,
          null,
          null,
          null,
          null,
          null,
          null,
          null,
          null,
          0.6666666666666667,
          1.3333333333333337,
          null,
          null,
          null,
          null,
          null,
          4.666666666666669,
          5.333333333333336,
          null,
          null,
          null,
          null,
          null,
          null,
          null,
          null,
          null,
          null,
          null,
          null,
          1.0196078431372553,
          0.9604519774011301,
          1.170370370370371,
          1.7804391217564872,
          2.8183632734530946,
          2.988095238095239,
          2.8628628628628636,
          3.059003831417625,
          3.7646229739253,
          3.0686517783291998,
          3.5668135095447875,
          5.141914191419144,
          4.82874327318772,
          4.645526057030483,
          4.991596638655464,
          4.733168724279836,
          4.35536083728855,
          4.546468024728896,
          6.415765440999761,
          6.440324214792301,
          5.066344345957563,
          5.801590355264849,
          5.948599161703069,
          5.979398899393257,
          7.219111827641804,
          8.308231000641124,
          8.207164101900945,
          7.573652359464096,
          7.296839995283578,
          7.527917297828806,
          8.788589034689558,
          11.379070441588562,
          12.767549976755003,
          13.225547375466109,
          13.093314641198639,
          13.291116248348747,
          14.561923195601565,
          16.481041312959828,
          20.99924463148808,
          25.11168702949526,
          24.00339558573855,
          23.39386243386245,
          24.903130516228973,
          25.537877174298902,
          27.292840697291975,
          32.52280480101076,
          39.87958220347496,
          39.52048484848485,
          34.71260364842455,
          35.20335172695689,
          34.198881819934456,
          34.61651111616968,
          43.077984817115265,
          52.06715646258505,
          57.59401785186502,
          51.302649930265005,
          46.391903649768764,
          49.379534173348624,
          53.770877944325505,
          67.39895656546612,
          72.77258441992646,
          60.39372574739031,
          62.196032801418454,
          67.08946532556911,
          71.68935167968267,
          83.4607989745781,
          97.20895889736653,
          104.19390774586599,
          96.48232383688455,
          102.83964965470778,
          107.11180609851452,
          107.32539887882712,
          127.18617614269789,
          161.4260536398468,
          184.57259001161444,
          169.22270742358083,
          150.7505565319274,
          158.2355816226785,
          180.16901798063626,
          231.4847038019453,
          283.37731780940067,
          205.06368437402926,
          193.0521106259098,
          236.31773049645395,
          250.45292906606784,
          269.12700320512823,
          289.92688172043023,
          400.2847838957964,
          357.6054852320676,
          306.69778980604434,
          347.9056363172661,
          352.41009788768685,
          346.19782992682315,
          382.13500000000016,
          553.022864019254,
          660.5174557627931,
          470.167855929324,
          392.764655904843,
          417.8653441538925,
          498.31473533619464,
          621.1918113039611,
          874.118824265166,
          900.5263835263839,
          730.8794992175276,
          938.9076305220888,
          673.7458033573143,
          595.0465313028766,
          1005.4675231977161,
          985.4325646401119,
          835.8046181172293,
          971.274226804124,
          811.779690189329,
          871.1070110701111,
          928.7465618860513,
          691.9541910331385,
          741.7110067814293,
          928.6092628832356,
          883.0458488228008,
          721.7875569044008,
          2601.0856102003654,
          4106.005747126437,
          976.482240437159,
          1071.901123595506,
          1429.2455089820367,
          692.7178743961354,
          548.2619320351281,
          870.0266182698128,
          1115.9736434108531,
          1376.135625596944,
          1601.9600000000007,
          1794.3383084577122,
          1485.1316872427992,
          1257.2654482158405,
          1136.6430817610064,
          1053.222707423581,
          1130.7010148321626,
          1208.0816666666667,
          1401.7120772946862,
          1466.5131313131317,
          1189.9557739557747,
          989.3210884353743,
          1045.7313218390807,
          1150.9115323854664,
          1206.150537634409,
          1718.8103651354538,
          1763.4782608695655,
          1242.493197278912,
          1057.4244396240063,
          1016.554166666667,
          1045.8486795146325,
          1198.1601307189546,
          1538.3857442348015,
          1200.0130718954251,
          836.3162684869174,
          879.2831541218642,
          933.8301647655267,
          931.277777777778,
          1166.3001579778836,
          1331.3369369369375,
          1006.1904761904764,
          736.7383084577116,
          649.5584756898819,
          734.4480712166173,
          929.8799249530961,
          1249.5902602854746,
          1422.5749761222546,
          865.79674796748,
          633.9074309978771,
          523.0940888422526,
          555.4786800148315,
          617.6337448559672,
          693.9002770083106,
          747.7675111773474,
          565.8971471471474,
          504.46559786239163,
          460.3144768856451,
          420.32806871709624,
          458.2049427365885,
          637.0455876202427,
          705.3037447988906,
          488.43016938318965,
          344.5937921727397,
          286.6856929677299,
          254.81301618764465,
          226.47543859649127
         ]
        }
       ],
       "layout": {
        "height": 600,
        "template": {
         "data": {
          "bar": [
           {
            "error_x": {
             "color": "#2a3f5f"
            },
            "error_y": {
             "color": "#2a3f5f"
            },
            "marker": {
             "line": {
              "color": "#E5ECF6",
              "width": 0.5
             }
            },
            "type": "bar"
           }
          ],
          "barpolar": [
           {
            "marker": {
             "line": {
              "color": "#E5ECF6",
              "width": 0.5
             }
            },
            "type": "barpolar"
           }
          ],
          "carpet": [
           {
            "aaxis": {
             "endlinecolor": "#2a3f5f",
             "gridcolor": "white",
             "linecolor": "white",
             "minorgridcolor": "white",
             "startlinecolor": "#2a3f5f"
            },
            "baxis": {
             "endlinecolor": "#2a3f5f",
             "gridcolor": "white",
             "linecolor": "white",
             "minorgridcolor": "white",
             "startlinecolor": "#2a3f5f"
            },
            "type": "carpet"
           }
          ],
          "choropleth": [
           {
            "colorbar": {
             "outlinewidth": 0,
             "ticks": ""
            },
            "type": "choropleth"
           }
          ],
          "contour": [
           {
            "colorbar": {
             "outlinewidth": 0,
             "ticks": ""
            },
            "colorscale": [
             [
              0,
              "#0d0887"
             ],
             [
              0.1111111111111111,
              "#46039f"
             ],
             [
              0.2222222222222222,
              "#7201a8"
             ],
             [
              0.3333333333333333,
              "#9c179e"
             ],
             [
              0.4444444444444444,
              "#bd3786"
             ],
             [
              0.5555555555555556,
              "#d8576b"
             ],
             [
              0.6666666666666666,
              "#ed7953"
             ],
             [
              0.7777777777777778,
              "#fb9f3a"
             ],
             [
              0.8888888888888888,
              "#fdca26"
             ],
             [
              1,
              "#f0f921"
             ]
            ],
            "type": "contour"
           }
          ],
          "contourcarpet": [
           {
            "colorbar": {
             "outlinewidth": 0,
             "ticks": ""
            },
            "type": "contourcarpet"
           }
          ],
          "heatmap": [
           {
            "colorbar": {
             "outlinewidth": 0,
             "ticks": ""
            },
            "colorscale": [
             [
              0,
              "#0d0887"
             ],
             [
              0.1111111111111111,
              "#46039f"
             ],
             [
              0.2222222222222222,
              "#7201a8"
             ],
             [
              0.3333333333333333,
              "#9c179e"
             ],
             [
              0.4444444444444444,
              "#bd3786"
             ],
             [
              0.5555555555555556,
              "#d8576b"
             ],
             [
              0.6666666666666666,
              "#ed7953"
             ],
             [
              0.7777777777777778,
              "#fb9f3a"
             ],
             [
              0.8888888888888888,
              "#fdca26"
             ],
             [
              1,
              "#f0f921"
             ]
            ],
            "type": "heatmap"
           }
          ],
          "heatmapgl": [
           {
            "colorbar": {
             "outlinewidth": 0,
             "ticks": ""
            },
            "colorscale": [
             [
              0,
              "#0d0887"
             ],
             [
              0.1111111111111111,
              "#46039f"
             ],
             [
              0.2222222222222222,
              "#7201a8"
             ],
             [
              0.3333333333333333,
              "#9c179e"
             ],
             [
              0.4444444444444444,
              "#bd3786"
             ],
             [
              0.5555555555555556,
              "#d8576b"
             ],
             [
              0.6666666666666666,
              "#ed7953"
             ],
             [
              0.7777777777777778,
              "#fb9f3a"
             ],
             [
              0.8888888888888888,
              "#fdca26"
             ],
             [
              1,
              "#f0f921"
             ]
            ],
            "type": "heatmapgl"
           }
          ],
          "histogram": [
           {
            "marker": {
             "colorbar": {
              "outlinewidth": 0,
              "ticks": ""
             }
            },
            "type": "histogram"
           }
          ],
          "histogram2d": [
           {
            "colorbar": {
             "outlinewidth": 0,
             "ticks": ""
            },
            "colorscale": [
             [
              0,
              "#0d0887"
             ],
             [
              0.1111111111111111,
              "#46039f"
             ],
             [
              0.2222222222222222,
              "#7201a8"
             ],
             [
              0.3333333333333333,
              "#9c179e"
             ],
             [
              0.4444444444444444,
              "#bd3786"
             ],
             [
              0.5555555555555556,
              "#d8576b"
             ],
             [
              0.6666666666666666,
              "#ed7953"
             ],
             [
              0.7777777777777778,
              "#fb9f3a"
             ],
             [
              0.8888888888888888,
              "#fdca26"
             ],
             [
              1,
              "#f0f921"
             ]
            ],
            "type": "histogram2d"
           }
          ],
          "histogram2dcontour": [
           {
            "colorbar": {
             "outlinewidth": 0,
             "ticks": ""
            },
            "colorscale": [
             [
              0,
              "#0d0887"
             ],
             [
              0.1111111111111111,
              "#46039f"
             ],
             [
              0.2222222222222222,
              "#7201a8"
             ],
             [
              0.3333333333333333,
              "#9c179e"
             ],
             [
              0.4444444444444444,
              "#bd3786"
             ],
             [
              0.5555555555555556,
              "#d8576b"
             ],
             [
              0.6666666666666666,
              "#ed7953"
             ],
             [
              0.7777777777777778,
              "#fb9f3a"
             ],
             [
              0.8888888888888888,
              "#fdca26"
             ],
             [
              1,
              "#f0f921"
             ]
            ],
            "type": "histogram2dcontour"
           }
          ],
          "mesh3d": [
           {
            "colorbar": {
             "outlinewidth": 0,
             "ticks": ""
            },
            "type": "mesh3d"
           }
          ],
          "parcoords": [
           {
            "line": {
             "colorbar": {
              "outlinewidth": 0,
              "ticks": ""
             }
            },
            "type": "parcoords"
           }
          ],
          "pie": [
           {
            "automargin": true,
            "type": "pie"
           }
          ],
          "scatter": [
           {
            "marker": {
             "colorbar": {
              "outlinewidth": 0,
              "ticks": ""
             }
            },
            "type": "scatter"
           }
          ],
          "scatter3d": [
           {
            "line": {
             "colorbar": {
              "outlinewidth": 0,
              "ticks": ""
             }
            },
            "marker": {
             "colorbar": {
              "outlinewidth": 0,
              "ticks": ""
             }
            },
            "type": "scatter3d"
           }
          ],
          "scattercarpet": [
           {
            "marker": {
             "colorbar": {
              "outlinewidth": 0,
              "ticks": ""
             }
            },
            "type": "scattercarpet"
           }
          ],
          "scattergeo": [
           {
            "marker": {
             "colorbar": {
              "outlinewidth": 0,
              "ticks": ""
             }
            },
            "type": "scattergeo"
           }
          ],
          "scattergl": [
           {
            "marker": {
             "colorbar": {
              "outlinewidth": 0,
              "ticks": ""
             }
            },
            "type": "scattergl"
           }
          ],
          "scattermapbox": [
           {
            "marker": {
             "colorbar": {
              "outlinewidth": 0,
              "ticks": ""
             }
            },
            "type": "scattermapbox"
           }
          ],
          "scatterpolar": [
           {
            "marker": {
             "colorbar": {
              "outlinewidth": 0,
              "ticks": ""
             }
            },
            "type": "scatterpolar"
           }
          ],
          "scatterpolargl": [
           {
            "marker": {
             "colorbar": {
              "outlinewidth": 0,
              "ticks": ""
             }
            },
            "type": "scatterpolargl"
           }
          ],
          "scatterternary": [
           {
            "marker": {
             "colorbar": {
              "outlinewidth": 0,
              "ticks": ""
             }
            },
            "type": "scatterternary"
           }
          ],
          "surface": [
           {
            "colorbar": {
             "outlinewidth": 0,
             "ticks": ""
            },
            "colorscale": [
             [
              0,
              "#0d0887"
             ],
             [
              0.1111111111111111,
              "#46039f"
             ],
             [
              0.2222222222222222,
              "#7201a8"
             ],
             [
              0.3333333333333333,
              "#9c179e"
             ],
             [
              0.4444444444444444,
              "#bd3786"
             ],
             [
              0.5555555555555556,
              "#d8576b"
             ],
             [
              0.6666666666666666,
              "#ed7953"
             ],
             [
              0.7777777777777778,
              "#fb9f3a"
             ],
             [
              0.8888888888888888,
              "#fdca26"
             ],
             [
              1,
              "#f0f921"
             ]
            ],
            "type": "surface"
           }
          ],
          "table": [
           {
            "cells": {
             "fill": {
              "color": "#EBF0F8"
             },
             "line": {
              "color": "white"
             }
            },
            "header": {
             "fill": {
              "color": "#C8D4E3"
             },
             "line": {
              "color": "white"
             }
            },
            "type": "table"
           }
          ]
         },
         "layout": {
          "annotationdefaults": {
           "arrowcolor": "#2a3f5f",
           "arrowhead": 0,
           "arrowwidth": 1
          },
          "coloraxis": {
           "colorbar": {
            "outlinewidth": 0,
            "ticks": ""
           }
          },
          "colorscale": {
           "diverging": [
            [
             0,
             "#8e0152"
            ],
            [
             0.1,
             "#c51b7d"
            ],
            [
             0.2,
             "#de77ae"
            ],
            [
             0.3,
             "#f1b6da"
            ],
            [
             0.4,
             "#fde0ef"
            ],
            [
             0.5,
             "#f7f7f7"
            ],
            [
             0.6,
             "#e6f5d0"
            ],
            [
             0.7,
             "#b8e186"
            ],
            [
             0.8,
             "#7fbc41"
            ],
            [
             0.9,
             "#4d9221"
            ],
            [
             1,
             "#276419"
            ]
           ],
           "sequential": [
            [
             0,
             "#0d0887"
            ],
            [
             0.1111111111111111,
             "#46039f"
            ],
            [
             0.2222222222222222,
             "#7201a8"
            ],
            [
             0.3333333333333333,
             "#9c179e"
            ],
            [
             0.4444444444444444,
             "#bd3786"
            ],
            [
             0.5555555555555556,
             "#d8576b"
            ],
            [
             0.6666666666666666,
             "#ed7953"
            ],
            [
             0.7777777777777778,
             "#fb9f3a"
            ],
            [
             0.8888888888888888,
             "#fdca26"
            ],
            [
             1,
             "#f0f921"
            ]
           ],
           "sequentialminus": [
            [
             0,
             "#0d0887"
            ],
            [
             0.1111111111111111,
             "#46039f"
            ],
            [
             0.2222222222222222,
             "#7201a8"
            ],
            [
             0.3333333333333333,
             "#9c179e"
            ],
            [
             0.4444444444444444,
             "#bd3786"
            ],
            [
             0.5555555555555556,
             "#d8576b"
            ],
            [
             0.6666666666666666,
             "#ed7953"
            ],
            [
             0.7777777777777778,
             "#fb9f3a"
            ],
            [
             0.8888888888888888,
             "#fdca26"
            ],
            [
             1,
             "#f0f921"
            ]
           ]
          },
          "colorway": [
           "#636efa",
           "#EF553B",
           "#00cc96",
           "#ab63fa",
           "#FFA15A",
           "#19d3f3",
           "#FF6692",
           "#B6E880",
           "#FF97FF",
           "#FECB52"
          ],
          "font": {
           "color": "#2a3f5f"
          },
          "geo": {
           "bgcolor": "white",
           "lakecolor": "white",
           "landcolor": "#E5ECF6",
           "showlakes": true,
           "showland": true,
           "subunitcolor": "white"
          },
          "hoverlabel": {
           "align": "left"
          },
          "hovermode": "closest",
          "mapbox": {
           "style": "light"
          },
          "paper_bgcolor": "white",
          "plot_bgcolor": "#E5ECF6",
          "polar": {
           "angularaxis": {
            "gridcolor": "white",
            "linecolor": "white",
            "ticks": ""
           },
           "bgcolor": "#E5ECF6",
           "radialaxis": {
            "gridcolor": "white",
            "linecolor": "white",
            "ticks": ""
           }
          },
          "scene": {
           "xaxis": {
            "backgroundcolor": "#E5ECF6",
            "gridcolor": "white",
            "gridwidth": 2,
            "linecolor": "white",
            "showbackground": true,
            "ticks": "",
            "zerolinecolor": "white"
           },
           "yaxis": {
            "backgroundcolor": "#E5ECF6",
            "gridcolor": "white",
            "gridwidth": 2,
            "linecolor": "white",
            "showbackground": true,
            "ticks": "",
            "zerolinecolor": "white"
           },
           "zaxis": {
            "backgroundcolor": "#E5ECF6",
            "gridcolor": "white",
            "gridwidth": 2,
            "linecolor": "white",
            "showbackground": true,
            "ticks": "",
            "zerolinecolor": "white"
           }
          },
          "shapedefaults": {
           "line": {
            "color": "#2a3f5f"
           }
          },
          "ternary": {
           "aaxis": {
            "gridcolor": "white",
            "linecolor": "white",
            "ticks": ""
           },
           "baxis": {
            "gridcolor": "white",
            "linecolor": "white",
            "ticks": ""
           },
           "bgcolor": "#E5ECF6",
           "caxis": {
            "gridcolor": "white",
            "linecolor": "white",
            "ticks": ""
           }
          },
          "title": {
           "x": 0.05
          },
          "xaxis": {
           "automargin": true,
           "gridcolor": "white",
           "linecolor": "white",
           "ticks": "",
           "title": {
            "standoff": 15
           },
           "zerolinecolor": "white",
           "zerolinewidth": 2
          },
          "yaxis": {
           "automargin": true,
           "gridcolor": "white",
           "linecolor": "white",
           "ticks": "",
           "title": {
            "standoff": 15
           },
           "zerolinecolor": "white",
           "zerolinewidth": 2
          }
         }
        },
        "width": 900,
        "xaxis": {
         "rangeslider": {
          "visible": true
         },
         "title": {
          "text": "Time"
         }
        },
        "yaxis": {
         "title": {
          "text": "Confirmed infected cases (SOURCE: John Hopkins CSSE, log-scale)"
         }
        }
       }
      },
      "text/html": [
       "<div>\n",
       "        \n",
       "        \n",
       "            <div id=\"2f064219-f4e0-4ca1-8e8e-1711220e5915\" class=\"plotly-graph-div\" style=\"height:600px; width:900px;\"></div>\n",
       "            <script type=\"text/javascript\">\n",
       "                require([\"plotly\"], function(Plotly) {\n",
       "                    window.PLOTLYENV=window.PLOTLYENV || {};\n",
       "                    \n",
       "                if (document.getElementById(\"2f064219-f4e0-4ca1-8e8e-1711220e5915\")) {\n",
       "                    Plotly.newPlot(\n",
       "                        '2f064219-f4e0-4ca1-8e8e-1711220e5915',\n",
       "                        [{\"line\": {\"width\": 2}, \"marker\": {\"size\": 4}, \"mode\": \"markers+lines\", \"name\": \"US\", \"opacity\": 0.9, \"type\": \"scatter\", \"x\": [\"2020-01-22T00:00:00\", \"2020-01-23T00:00:00\", \"2020-01-24T00:00:00\", \"2020-01-25T00:00:00\", \"2020-01-26T00:00:00\", \"2020-01-27T00:00:00\", \"2020-01-28T00:00:00\", \"2020-01-29T00:00:00\", \"2020-01-30T00:00:00\", \"2020-01-31T00:00:00\", \"2020-02-01T00:00:00\", \"2020-02-02T00:00:00\", \"2020-02-03T00:00:00\", \"2020-02-04T00:00:00\", \"2020-02-05T00:00:00\", \"2020-02-06T00:00:00\", \"2020-02-07T00:00:00\", \"2020-02-08T00:00:00\", \"2020-02-09T00:00:00\", \"2020-02-10T00:00:00\", \"2020-02-11T00:00:00\", \"2020-02-12T00:00:00\", \"2020-02-13T00:00:00\", \"2020-02-14T00:00:00\", \"2020-02-15T00:00:00\", \"2020-02-16T00:00:00\", \"2020-02-17T00:00:00\", \"2020-02-18T00:00:00\", \"2020-02-19T00:00:00\", \"2020-02-20T00:00:00\", \"2020-02-21T00:00:00\", \"2020-02-22T00:00:00\", \"2020-02-23T00:00:00\", \"2020-02-24T00:00:00\", \"2020-02-25T00:00:00\", \"2020-02-26T00:00:00\", \"2020-02-27T00:00:00\", \"2020-02-28T00:00:00\", \"2020-02-29T00:00:00\", \"2020-03-01T00:00:00\", \"2020-03-02T00:00:00\", \"2020-03-03T00:00:00\", \"2020-03-04T00:00:00\", \"2020-03-05T00:00:00\", \"2020-03-06T00:00:00\", \"2020-03-07T00:00:00\", \"2020-03-08T00:00:00\", \"2020-03-09T00:00:00\", \"2020-03-10T00:00:00\", \"2020-03-11T00:00:00\", \"2020-03-12T00:00:00\", \"2020-03-13T00:00:00\", \"2020-03-14T00:00:00\", \"2020-03-15T00:00:00\", \"2020-03-16T00:00:00\", \"2020-03-17T00:00:00\", \"2020-03-18T00:00:00\", \"2020-03-19T00:00:00\", \"2020-03-20T00:00:00\", \"2020-03-21T00:00:00\", \"2020-03-22T00:00:00\", \"2020-03-23T00:00:00\", \"2020-03-24T00:00:00\", \"2020-03-25T00:00:00\", \"2020-03-26T00:00:00\", \"2020-03-27T00:00:00\", \"2020-03-28T00:00:00\", \"2020-03-29T00:00:00\", \"2020-03-30T00:00:00\", \"2020-03-31T00:00:00\", \"2020-04-01T00:00:00\", \"2020-04-02T00:00:00\", \"2020-04-03T00:00:00\", \"2020-04-04T00:00:00\", \"2020-04-05T00:00:00\", \"2020-04-06T00:00:00\", \"2020-04-07T00:00:00\", \"2020-04-08T00:00:00\", \"2020-04-09T00:00:00\", \"2020-04-10T00:00:00\", \"2020-04-11T00:00:00\", \"2020-04-12T00:00:00\", \"2020-04-13T00:00:00\", \"2020-04-14T00:00:00\", \"2020-04-15T00:00:00\", \"2020-04-16T00:00:00\", \"2020-04-17T00:00:00\", \"2020-04-18T00:00:00\", \"2020-04-19T00:00:00\", \"2020-04-20T00:00:00\", \"2020-04-21T00:00:00\", \"2020-04-22T00:00:00\", \"2020-04-23T00:00:00\", \"2020-04-24T00:00:00\", \"2020-04-25T00:00:00\", \"2020-04-26T00:00:00\", \"2020-04-27T00:00:00\", \"2020-04-28T00:00:00\", \"2020-04-29T00:00:00\", \"2020-04-30T00:00:00\", \"2020-05-01T00:00:00\", \"2020-05-02T00:00:00\", \"2020-05-03T00:00:00\", \"2020-05-04T00:00:00\", \"2020-05-05T00:00:00\", \"2020-05-06T00:00:00\", \"2020-05-07T00:00:00\", \"2020-05-08T00:00:00\", \"2020-05-09T00:00:00\", \"2020-05-10T00:00:00\", \"2020-05-11T00:00:00\", \"2020-05-12T00:00:00\", \"2020-05-13T00:00:00\", \"2020-05-14T00:00:00\", \"2020-05-15T00:00:00\", \"2020-05-16T00:00:00\", \"2020-05-17T00:00:00\", \"2020-05-18T00:00:00\", \"2020-05-19T00:00:00\", \"2020-05-20T00:00:00\", \"2020-05-21T00:00:00\", \"2020-05-22T00:00:00\", \"2020-05-23T00:00:00\", \"2020-05-24T00:00:00\", \"2020-05-25T00:00:00\", \"2020-05-26T00:00:00\", \"2020-05-27T00:00:00\", \"2020-05-28T00:00:00\", \"2020-05-29T00:00:00\", \"2020-05-30T00:00:00\", \"2020-05-31T00:00:00\", \"2020-06-01T00:00:00\", \"2020-06-02T00:00:00\", \"2020-06-03T00:00:00\", \"2020-06-04T00:00:00\", \"2020-06-05T00:00:00\", \"2020-06-06T00:00:00\", \"2020-06-07T00:00:00\", \"2020-06-08T00:00:00\", \"2020-06-09T00:00:00\", \"2020-06-10T00:00:00\", \"2020-06-11T00:00:00\", \"2020-06-12T00:00:00\", \"2020-06-13T00:00:00\", \"2020-06-14T00:00:00\", \"2020-06-15T00:00:00\", \"2020-06-16T00:00:00\", \"2020-06-17T00:00:00\", \"2020-06-18T00:00:00\", \"2020-06-19T00:00:00\", \"2020-06-20T00:00:00\", \"2020-06-21T00:00:00\", \"2020-06-22T00:00:00\", \"2020-06-23T00:00:00\", \"2020-06-24T00:00:00\", \"2020-06-25T00:00:00\", \"2020-06-26T00:00:00\", \"2020-06-27T00:00:00\", \"2020-06-28T00:00:00\", \"2020-06-29T00:00:00\", \"2020-06-30T00:00:00\", \"2020-07-01T00:00:00\", \"2020-07-02T00:00:00\", \"2020-07-03T00:00:00\", \"2020-07-04T00:00:00\", \"2020-07-05T00:00:00\", \"2020-07-06T00:00:00\", \"2020-07-07T00:00:00\", \"2020-07-08T00:00:00\", \"2020-07-09T00:00:00\", \"2020-07-10T00:00:00\", \"2020-07-11T00:00:00\", \"2020-07-12T00:00:00\", \"2020-07-13T00:00:00\", \"2020-07-14T00:00:00\", \"2020-07-15T00:00:00\", \"2020-07-16T00:00:00\", \"2020-07-17T00:00:00\", \"2020-07-18T00:00:00\", \"2020-07-19T00:00:00\", \"2020-07-20T00:00:00\", \"2020-07-21T00:00:00\", \"2020-07-22T00:00:00\", \"2020-07-23T00:00:00\", \"2020-07-24T00:00:00\", \"2020-07-25T00:00:00\", \"2020-07-26T00:00:00\", \"2020-07-27T00:00:00\", \"2020-07-28T00:00:00\", \"2020-07-29T00:00:00\", \"2020-07-30T00:00:00\", \"2020-07-31T00:00:00\", \"2020-08-01T00:00:00\", \"2020-08-02T00:00:00\", \"2020-08-03T00:00:00\", \"2020-08-04T00:00:00\", \"2020-08-05T00:00:00\", \"2020-08-06T00:00:00\", \"2020-08-07T00:00:00\", \"2020-08-08T00:00:00\", \"2020-08-09T00:00:00\", \"2020-08-10T00:00:00\", \"2020-08-11T00:00:00\", \"2020-08-12T00:00:00\", \"2020-08-13T00:00:00\", \"2020-08-14T00:00:00\", \"2020-08-15T00:00:00\", \"2020-08-16T00:00:00\", \"2020-08-17T00:00:00\", \"2020-08-18T00:00:00\", \"2020-08-19T00:00:00\", \"2020-08-20T00:00:00\", \"2020-08-21T00:00:00\", \"2020-08-22T00:00:00\", \"2020-08-23T00:00:00\"], \"y\": [null, null, 2.666666666666667, 3.333333333333335, 2.0000000000000004, 2.666666666666668, null, null, null, 5.66666666666667, 4.444444444444446, 15.333333333333337, 6.000000000000001, 6.66666666666667, null, null, null, null, null, null, 22.66666666666667, 23.333333333333336, 24.666666666666675, 25.33333333333334, null, null, null, null, null, null, 13.66666666666667, 14.333333333333337, null, null, null, null, 30.666666666666675, 31.33333333333334, 4.666666666666669, 3.333333333333334, 2.4597701149425295, 2.418604651162792, 3.0065359477124196, 2.316831683168318, 2.824858757062148, 2.99795501022495, 2.940320232896654, 4.78754578754579, 4.310256410256413, 2.642937853107345, 2.6517647058823544, 3.0706106870229015, 3.3552330022918277, 6.572133168927251, 4.562863534675618, 2.8299191091501217, 2.8407578084997454, 2.42972388556221, 2.685918071072399, 3.3973831562107195, 3.6906595714885877, 3.8256495607951932, 4.31503775408252, 4.924326352923518, 4.542246239033992, 4.645960446518136, 5.414292485122968, 6.260114567546046, 6.988221205111803, 6.911424903722724, 7.322433233653092, 7.724522539932483, 7.863740870253337, 8.509947917466855, 10.092080970952274, 11.758896075294993, 12.16813695471072, 12.751442002422463, 12.963330825181847, 13.59636862641683, 15.640111028906352, 18.00911589477458, 20.63125572641954, 22.247854432475116, 21.707412617296708, 21.15137265291255, 20.922412087511592, 22.943912224678627, 26.832760195418587, 28.356070114964073, 29.584131361401266, 30.169887908241172, 26.94914311091137, 24.751458918555933, 26.203105434510398, 30.98779079359842, 38.552325504114, 42.1988510638298, 39.05534530784749, 36.52700834660274, 33.67804235707233, 34.88717374033914, 41.430445523468784, 48.29485525640494, 50.77822546078014, 48.8917295362149, 46.46024815888191, 45.81090931105462, 48.689510057769986, 57.68865346433099, 69.03310732708799, 65.94263173273598, 63.722134668273554, 57.574047006347584, 53.780625003937004, 57.49729833402778, 66.75413974228171, 73.28642320489868, 71.74480079586908, 69.43552663292361, 63.45034782962453, 64.00950918592751, 69.96259391407771, 76.46774243987869, 82.94049174287345, 88.20003168400486, 90.88995919099513, 83.16694649244474, 73.15551892474484, 71.6895861420926, 80.14881274421404, 96.51267051299254, 95.04099346405232, 89.93521487610055, 89.94632323868085, 80.72888888888893, 79.36760085634056, 95.147270345748, 110.63931409928115, 110.40584847973294, 101.78571979137233, 91.50624847598151, 83.86285556476113, 80.53536663653398, 91.34558542676659, 106.08405092358089, 97.56136669357014, 86.81183013965577, 81.09878578923701, 73.95377444944819, 69.2211306419219, 76.13788831069363, 80.1450694749159, 70.41122471750556, 66.95111922384002, 63.73842369800024, 56.95171976318018, 56.08694861300593, 60.970129186409125, 63.43229406326823, 59.90330059695746, 54.44125739441464, 50.90516716366104, 50.87853172872613, 56.31267978600425, 59.36688143298214, 60.93636734292184, 56.03482132083502, 50.50706726689261, 50.164921322740916, 47.6115427077133, 49.74570307107678, 54.45299553989628, 55.90716557277219, 53.17599027102157, 50.933902309300294, 48.44568171915095, 48.03690537789039, 53.8991985568108, 59.114994623441824, 61.220091294565606, 60.90806742304549, 57.60810864022525, 56.86590976922986, 56.74446082906165, 58.65127883138074, 68.78775097754935, 76.04425009203807, 70.22216770387818, 63.78340468610879, 63.77205608666108, 66.5265692260253, 72.61262810865048, 87.05901098383072, 100.43109408845095, 91.68572576152162, 86.44319589185926, 85.7973013813088, 82.85879042407278, 86.42270748977532, 96.88483708179375, 104.60617180292526, 105.73550333527086, 99.87942388029761, 96.44285846867754, 90.69685171916682, 94.60713978034649, 119.14518513578108, 139.99224987039923, 137.40181558779344, 119.85970702776355, 120.93700531912958, 120.2684254425702, 120.54181811683559, 143.13491451749462]}, {\"line\": {\"width\": 2}, \"marker\": {\"size\": 4}, \"mode\": \"markers+lines\", \"name\": \"Germany\", \"opacity\": 0.9, \"type\": \"scatter\", \"x\": [\"2020-01-22T00:00:00\", \"2020-01-23T00:00:00\", \"2020-01-24T00:00:00\", \"2020-01-25T00:00:00\", \"2020-01-26T00:00:00\", \"2020-01-27T00:00:00\", \"2020-01-28T00:00:00\", \"2020-01-29T00:00:00\", \"2020-01-30T00:00:00\", \"2020-01-31T00:00:00\", \"2020-02-01T00:00:00\", \"2020-02-02T00:00:00\", \"2020-02-03T00:00:00\", \"2020-02-04T00:00:00\", \"2020-02-05T00:00:00\", \"2020-02-06T00:00:00\", \"2020-02-07T00:00:00\", \"2020-02-08T00:00:00\", \"2020-02-09T00:00:00\", \"2020-02-10T00:00:00\", \"2020-02-11T00:00:00\", \"2020-02-12T00:00:00\", \"2020-02-13T00:00:00\", \"2020-02-14T00:00:00\", \"2020-02-15T00:00:00\", \"2020-02-16T00:00:00\", \"2020-02-17T00:00:00\", \"2020-02-18T00:00:00\", \"2020-02-19T00:00:00\", \"2020-02-20T00:00:00\", \"2020-02-21T00:00:00\", \"2020-02-22T00:00:00\", \"2020-02-23T00:00:00\", \"2020-02-24T00:00:00\", \"2020-02-25T00:00:00\", \"2020-02-26T00:00:00\", \"2020-02-27T00:00:00\", \"2020-02-28T00:00:00\", \"2020-02-29T00:00:00\", \"2020-03-01T00:00:00\", \"2020-03-02T00:00:00\", \"2020-03-03T00:00:00\", \"2020-03-04T00:00:00\", \"2020-03-05T00:00:00\", \"2020-03-06T00:00:00\", \"2020-03-07T00:00:00\", \"2020-03-08T00:00:00\", \"2020-03-09T00:00:00\", \"2020-03-10T00:00:00\", \"2020-03-11T00:00:00\", \"2020-03-12T00:00:00\", \"2020-03-13T00:00:00\", \"2020-03-14T00:00:00\", \"2020-03-15T00:00:00\", \"2020-03-16T00:00:00\", \"2020-03-17T00:00:00\", \"2020-03-18T00:00:00\", \"2020-03-19T00:00:00\", \"2020-03-20T00:00:00\", \"2020-03-21T00:00:00\", \"2020-03-22T00:00:00\", \"2020-03-23T00:00:00\", \"2020-03-24T00:00:00\", \"2020-03-25T00:00:00\", \"2020-03-26T00:00:00\", \"2020-03-27T00:00:00\", \"2020-03-28T00:00:00\", \"2020-03-29T00:00:00\", \"2020-03-30T00:00:00\", \"2020-03-31T00:00:00\", \"2020-04-01T00:00:00\", \"2020-04-02T00:00:00\", \"2020-04-03T00:00:00\", \"2020-04-04T00:00:00\", \"2020-04-05T00:00:00\", \"2020-04-06T00:00:00\", \"2020-04-07T00:00:00\", \"2020-04-08T00:00:00\", \"2020-04-09T00:00:00\", \"2020-04-10T00:00:00\", \"2020-04-11T00:00:00\", \"2020-04-12T00:00:00\", \"2020-04-13T00:00:00\", \"2020-04-14T00:00:00\", \"2020-04-15T00:00:00\", \"2020-04-16T00:00:00\", \"2020-04-17T00:00:00\", \"2020-04-18T00:00:00\", \"2020-04-19T00:00:00\", \"2020-04-20T00:00:00\", \"2020-04-21T00:00:00\", \"2020-04-22T00:00:00\", \"2020-04-23T00:00:00\", \"2020-04-24T00:00:00\", \"2020-04-25T00:00:00\", \"2020-04-26T00:00:00\", \"2020-04-27T00:00:00\", \"2020-04-28T00:00:00\", \"2020-04-29T00:00:00\", \"2020-04-30T00:00:00\", \"2020-05-01T00:00:00\", \"2020-05-02T00:00:00\", \"2020-05-03T00:00:00\", \"2020-05-04T00:00:00\", \"2020-05-05T00:00:00\", \"2020-05-06T00:00:00\", \"2020-05-07T00:00:00\", \"2020-05-08T00:00:00\", \"2020-05-09T00:00:00\", \"2020-05-10T00:00:00\", \"2020-05-11T00:00:00\", \"2020-05-12T00:00:00\", \"2020-05-13T00:00:00\", \"2020-05-14T00:00:00\", \"2020-05-15T00:00:00\", \"2020-05-16T00:00:00\", \"2020-05-17T00:00:00\", \"2020-05-18T00:00:00\", \"2020-05-19T00:00:00\", \"2020-05-20T00:00:00\", \"2020-05-21T00:00:00\", \"2020-05-22T00:00:00\", \"2020-05-23T00:00:00\", \"2020-05-24T00:00:00\", \"2020-05-25T00:00:00\", \"2020-05-26T00:00:00\", \"2020-05-27T00:00:00\", \"2020-05-28T00:00:00\", \"2020-05-29T00:00:00\", \"2020-05-30T00:00:00\", \"2020-05-31T00:00:00\", \"2020-06-01T00:00:00\", \"2020-06-02T00:00:00\", \"2020-06-03T00:00:00\", \"2020-06-04T00:00:00\", \"2020-06-05T00:00:00\", \"2020-06-06T00:00:00\", \"2020-06-07T00:00:00\", \"2020-06-08T00:00:00\", \"2020-06-09T00:00:00\", \"2020-06-10T00:00:00\", \"2020-06-11T00:00:00\", \"2020-06-12T00:00:00\", \"2020-06-13T00:00:00\", \"2020-06-14T00:00:00\", \"2020-06-15T00:00:00\", \"2020-06-16T00:00:00\", \"2020-06-17T00:00:00\", \"2020-06-18T00:00:00\", \"2020-06-19T00:00:00\", \"2020-06-20T00:00:00\", \"2020-06-21T00:00:00\", \"2020-06-22T00:00:00\", \"2020-06-23T00:00:00\", \"2020-06-24T00:00:00\", \"2020-06-25T00:00:00\", \"2020-06-26T00:00:00\", \"2020-06-27T00:00:00\", \"2020-06-28T00:00:00\", \"2020-06-29T00:00:00\", \"2020-06-30T00:00:00\", \"2020-07-01T00:00:00\", \"2020-07-02T00:00:00\", \"2020-07-03T00:00:00\", \"2020-07-04T00:00:00\", \"2020-07-05T00:00:00\", \"2020-07-06T00:00:00\", \"2020-07-07T00:00:00\", \"2020-07-08T00:00:00\", \"2020-07-09T00:00:00\", \"2020-07-10T00:00:00\", \"2020-07-11T00:00:00\", \"2020-07-12T00:00:00\", \"2020-07-13T00:00:00\", \"2020-07-14T00:00:00\", \"2020-07-15T00:00:00\", \"2020-07-16T00:00:00\", \"2020-07-17T00:00:00\", \"2020-07-18T00:00:00\", \"2020-07-19T00:00:00\", \"2020-07-20T00:00:00\", \"2020-07-21T00:00:00\", \"2020-07-22T00:00:00\", \"2020-07-23T00:00:00\", \"2020-07-24T00:00:00\", \"2020-07-25T00:00:00\", \"2020-07-26T00:00:00\", \"2020-07-27T00:00:00\", \"2020-07-28T00:00:00\", \"2020-07-29T00:00:00\", \"2020-07-30T00:00:00\", \"2020-07-31T00:00:00\", \"2020-08-01T00:00:00\", \"2020-08-02T00:00:00\", \"2020-08-03T00:00:00\", \"2020-08-04T00:00:00\", \"2020-08-05T00:00:00\", \"2020-08-06T00:00:00\", \"2020-08-07T00:00:00\", \"2020-08-08T00:00:00\", \"2020-08-09T00:00:00\", \"2020-08-10T00:00:00\", \"2020-08-11T00:00:00\", \"2020-08-12T00:00:00\", \"2020-08-13T00:00:00\", \"2020-08-14T00:00:00\", \"2020-08-15T00:00:00\", \"2020-08-16T00:00:00\", \"2020-08-17T00:00:00\", \"2020-08-18T00:00:00\", \"2020-08-19T00:00:00\", \"2020-08-20T00:00:00\", \"2020-08-21T00:00:00\", \"2020-08-22T00:00:00\", \"2020-08-23T00:00:00\"], \"y\": [null, null, null, null, null, 0.6666666666666667, 0.8333333333333337, 2.000000000000001, null, 8.666666666666668, 2.833333333333335, 3.066666666666668, 5.000000000000001, 11.333333333333336, null, null, 24.666666666666675, 25.33333333333334, 26.666666666666675, 27.33333333333334, 14.66666666666667, 15.333333333333337, null, null, null, null, null, null, null, null, null, null, null, null, 32.66666666666667, 3.636363636363637, 2.06896551724138, 3.8412698412698427, 3.4949494949494957, 2.0894308943089435, 3.0666666666666678, 4.8989898989899, 3.9935275080906165, 2.191142191142192, 2.31045751633987, 4.103049421661411, 4.520720720720722, 5.331564986737402, 5.872102318145484, 4.135701275045538, 5.843263553408484, 2.890398038106018, 2.749102512963703, 4.419811320754719, 4.379605508001491, 4.298863855189679, 3.80560501153973, 4.057837154324044, 4.209989806320084, 5.5496880893660245, 8.880132669983418, 7.417994057187396, 7.142035416409882, 8.012983347445669, 6.954407109812518, 6.501919102450548, 7.390370962661434, 10.13667141838917, 13.541893362350386, 13.781392635299772, 13.14068141136495, 12.037270907130761, 12.735505882943231, 16.052693692098906, 21.372452774059212, 27.427355122219183, 27.51193633952256, 21.792178996170136, 21.495848386892323, 26.565107981220663, 36.19840443981964, 43.9829902047041, 49.42344435837853, 74.0437470280552, 56.42441073844624, 42.46831782089711, 41.52598836042546, 49.89806283959369, 75.68400668955199, 78.00000000000004, 94.52633837571078, 82.98520792631875, 62.29406090671079, 70.29433846625301, 91.53684003152092, 112.90316371947554, 140.47245731254642, 148.28509181450363, 115.11662471533025, 104.28586804434401, 128.34909377462571, 167.53592100783112, 207.81684520058815, 279.48410689170197, 247.61628195582045, 166.27562189054734, 138.83587838767372, 139.6482550151141, 179.9866244280184, 265.3193906532405, 274.6427050053249, 267.092879256966, 227.70258431887876, 266.129558786024, 307.67048458149793, 274.96755625327063, 309.48004694835686, 441.1113892365458, 251.09912467471028, 184.8081859174472, 287.0860820595335, 289.5198059822151, 372.1706390328154, 582.5501618122979, 587.311617806732, 414.47094801223255, 392.00865800865813, 364.73895582329334, 260.6781115879829, 368.1148036253777, 750.7117486338799, 905.6674897119342, 783.0604122245915, 697.7786211258698, 621.1039910061835, 459.5408883354091, 378.2181322426722, 448.8490718321229, 563.7926150733437, 492.38536155202826, 902.5617433414048, 2017.005405405406, 530.7187500000001, 649.5185185185188, 1283.1301369863015, 903.5614457831331, 511.7638510445052, 408.19812002892263, 241.394249201278, 223.68534906588008, 446.10082063306004, 392.08016443987674, 348.3363691560413, 317.61589403973517, 348.81776971894845, 433.01309390198287, 332.06180257510744, 356.86292548298076, 591.7676306443432, 666.88698630137, 538.0717241379313, 459.3443008225618, 411.54131652661084, 442.72303645246154, 475.3204508856685, 530.7321668909827, 456.3394919168593, 482.8699186991873, 624.7832020997378, 603.8936170212768, 628.7856766719327, 563.1280602636537, 680.2498580352075, 848.9851380042464, 745.567970204842, 564.8131455399061, 404.28973843058367, 348.8513708513709, 413.88046448087437, 586.672463768116, 451.2317389692252, 413.9694501018332, 428.5439887837365, 351.0160366552121, 304.27121999505084, 294.33643521832505, 394.99872286079204, 495.6490807354119, 398.3884615384615, 289.80241748024184, 228.22319474835896, 226.11261018168742, 286.14013605442193, 513.7019894437677, 382.36045810729365, 263.74751243781105, 212.80452880452887, 193.57153625810346, 206.5444071051369, 231.80901287553652, 397.06166056166063, 271.11069574247153, 194.0011841326229, 186.84446334892957, 161.17718594187042, 151.64415643474317, 202.5555052106933, 369.1260964912283, 203.79596142254374, 145.58882107292007, 151.81326236416064, 144.83354350567473, 139.23703480790456, 181.18126378616853, 319.1736063708761]}, {\"line\": {\"width\": 2}, \"marker\": {\"size\": 4}, \"mode\": \"markers+lines\", \"name\": \"Italy\", \"opacity\": 0.9, \"type\": \"scatter\", \"x\": [\"2020-01-22T00:00:00\", \"2020-01-23T00:00:00\", \"2020-01-24T00:00:00\", \"2020-01-25T00:00:00\", \"2020-01-26T00:00:00\", \"2020-01-27T00:00:00\", \"2020-01-28T00:00:00\", \"2020-01-29T00:00:00\", \"2020-01-30T00:00:00\", \"2020-01-31T00:00:00\", \"2020-02-01T00:00:00\", \"2020-02-02T00:00:00\", \"2020-02-03T00:00:00\", \"2020-02-04T00:00:00\", \"2020-02-05T00:00:00\", \"2020-02-06T00:00:00\", \"2020-02-07T00:00:00\", \"2020-02-08T00:00:00\", \"2020-02-09T00:00:00\", \"2020-02-10T00:00:00\", \"2020-02-11T00:00:00\", \"2020-02-12T00:00:00\", \"2020-02-13T00:00:00\", \"2020-02-14T00:00:00\", \"2020-02-15T00:00:00\", \"2020-02-16T00:00:00\", \"2020-02-17T00:00:00\", \"2020-02-18T00:00:00\", \"2020-02-19T00:00:00\", \"2020-02-20T00:00:00\", \"2020-02-21T00:00:00\", \"2020-02-22T00:00:00\", \"2020-02-23T00:00:00\", \"2020-02-24T00:00:00\", \"2020-02-25T00:00:00\", \"2020-02-26T00:00:00\", \"2020-02-27T00:00:00\", \"2020-02-28T00:00:00\", \"2020-02-29T00:00:00\", \"2020-03-01T00:00:00\", \"2020-03-02T00:00:00\", \"2020-03-03T00:00:00\", \"2020-03-04T00:00:00\", \"2020-03-05T00:00:00\", \"2020-03-06T00:00:00\", \"2020-03-07T00:00:00\", \"2020-03-08T00:00:00\", \"2020-03-09T00:00:00\", \"2020-03-10T00:00:00\", \"2020-03-11T00:00:00\", \"2020-03-12T00:00:00\", \"2020-03-13T00:00:00\", \"2020-03-14T00:00:00\", \"2020-03-15T00:00:00\", \"2020-03-16T00:00:00\", \"2020-03-17T00:00:00\", \"2020-03-18T00:00:00\", \"2020-03-19T00:00:00\", \"2020-03-20T00:00:00\", \"2020-03-21T00:00:00\", \"2020-03-22T00:00:00\", \"2020-03-23T00:00:00\", \"2020-03-24T00:00:00\", \"2020-03-25T00:00:00\", \"2020-03-26T00:00:00\", \"2020-03-27T00:00:00\", \"2020-03-28T00:00:00\", \"2020-03-29T00:00:00\", \"2020-03-30T00:00:00\", \"2020-03-31T00:00:00\", \"2020-04-01T00:00:00\", \"2020-04-02T00:00:00\", \"2020-04-03T00:00:00\", \"2020-04-04T00:00:00\", \"2020-04-05T00:00:00\", \"2020-04-06T00:00:00\", \"2020-04-07T00:00:00\", \"2020-04-08T00:00:00\", \"2020-04-09T00:00:00\", \"2020-04-10T00:00:00\", \"2020-04-11T00:00:00\", \"2020-04-12T00:00:00\", \"2020-04-13T00:00:00\", \"2020-04-14T00:00:00\", \"2020-04-15T00:00:00\", \"2020-04-16T00:00:00\", \"2020-04-17T00:00:00\", \"2020-04-18T00:00:00\", \"2020-04-19T00:00:00\", \"2020-04-20T00:00:00\", \"2020-04-21T00:00:00\", \"2020-04-22T00:00:00\", \"2020-04-23T00:00:00\", \"2020-04-24T00:00:00\", \"2020-04-25T00:00:00\", \"2020-04-26T00:00:00\", \"2020-04-27T00:00:00\", \"2020-04-28T00:00:00\", \"2020-04-29T00:00:00\", \"2020-04-30T00:00:00\", \"2020-05-01T00:00:00\", \"2020-05-02T00:00:00\", \"2020-05-03T00:00:00\", \"2020-05-04T00:00:00\", \"2020-05-05T00:00:00\", \"2020-05-06T00:00:00\", \"2020-05-07T00:00:00\", \"2020-05-08T00:00:00\", \"2020-05-09T00:00:00\", \"2020-05-10T00:00:00\", \"2020-05-11T00:00:00\", \"2020-05-12T00:00:00\", \"2020-05-13T00:00:00\", \"2020-05-14T00:00:00\", \"2020-05-15T00:00:00\", \"2020-05-16T00:00:00\", \"2020-05-17T00:00:00\", \"2020-05-18T00:00:00\", \"2020-05-19T00:00:00\", \"2020-05-20T00:00:00\", \"2020-05-21T00:00:00\", \"2020-05-22T00:00:00\", \"2020-05-23T00:00:00\", \"2020-05-24T00:00:00\", \"2020-05-25T00:00:00\", \"2020-05-26T00:00:00\", \"2020-05-27T00:00:00\", \"2020-05-28T00:00:00\", \"2020-05-29T00:00:00\", \"2020-05-30T00:00:00\", \"2020-05-31T00:00:00\", \"2020-06-01T00:00:00\", \"2020-06-02T00:00:00\", \"2020-06-03T00:00:00\", \"2020-06-04T00:00:00\", \"2020-06-05T00:00:00\", \"2020-06-06T00:00:00\", \"2020-06-07T00:00:00\", \"2020-06-08T00:00:00\", \"2020-06-09T00:00:00\", \"2020-06-10T00:00:00\", \"2020-06-11T00:00:00\", \"2020-06-12T00:00:00\", \"2020-06-13T00:00:00\", \"2020-06-14T00:00:00\", \"2020-06-15T00:00:00\", \"2020-06-16T00:00:00\", \"2020-06-17T00:00:00\", \"2020-06-18T00:00:00\", \"2020-06-19T00:00:00\", \"2020-06-20T00:00:00\", \"2020-06-21T00:00:00\", \"2020-06-22T00:00:00\", \"2020-06-23T00:00:00\", \"2020-06-24T00:00:00\", \"2020-06-25T00:00:00\", \"2020-06-26T00:00:00\", \"2020-06-27T00:00:00\", \"2020-06-28T00:00:00\", \"2020-06-29T00:00:00\", \"2020-06-30T00:00:00\", \"2020-07-01T00:00:00\", \"2020-07-02T00:00:00\", \"2020-07-03T00:00:00\", \"2020-07-04T00:00:00\", \"2020-07-05T00:00:00\", \"2020-07-06T00:00:00\", \"2020-07-07T00:00:00\", \"2020-07-08T00:00:00\", \"2020-07-09T00:00:00\", \"2020-07-10T00:00:00\", \"2020-07-11T00:00:00\", \"2020-07-12T00:00:00\", \"2020-07-13T00:00:00\", \"2020-07-14T00:00:00\", \"2020-07-15T00:00:00\", \"2020-07-16T00:00:00\", \"2020-07-17T00:00:00\", \"2020-07-18T00:00:00\", \"2020-07-19T00:00:00\", \"2020-07-20T00:00:00\", \"2020-07-21T00:00:00\", \"2020-07-22T00:00:00\", \"2020-07-23T00:00:00\", \"2020-07-24T00:00:00\", \"2020-07-25T00:00:00\", \"2020-07-26T00:00:00\", \"2020-07-27T00:00:00\", \"2020-07-28T00:00:00\", \"2020-07-29T00:00:00\", \"2020-07-30T00:00:00\", \"2020-07-31T00:00:00\", \"2020-08-01T00:00:00\", \"2020-08-02T00:00:00\", \"2020-08-03T00:00:00\", \"2020-08-04T00:00:00\", \"2020-08-05T00:00:00\", \"2020-08-06T00:00:00\", \"2020-08-07T00:00:00\", \"2020-08-08T00:00:00\", \"2020-08-09T00:00:00\", \"2020-08-10T00:00:00\", \"2020-08-11T00:00:00\", \"2020-08-12T00:00:00\", \"2020-08-13T00:00:00\", \"2020-08-14T00:00:00\", \"2020-08-15T00:00:00\", \"2020-08-16T00:00:00\", \"2020-08-17T00:00:00\", \"2020-08-18T00:00:00\", \"2020-08-19T00:00:00\", \"2020-08-20T00:00:00\", \"2020-08-21T00:00:00\", \"2020-08-22T00:00:00\", \"2020-08-23T00:00:00\"], \"y\": [null, null, null, null, null, null, null, null, null, 0.6666666666666667, 1.3333333333333337, null, null, null, null, null, 4.666666666666669, 5.333333333333336, null, null, null, null, null, null, null, null, null, null, null, null, 1.0196078431372553, 0.9604519774011301, 1.170370370370371, 1.7804391217564872, 2.8183632734530946, 2.988095238095239, 2.8628628628628636, 3.059003831417625, 3.7646229739253, 3.0686517783291998, 3.5668135095447875, 5.141914191419144, 4.82874327318772, 4.645526057030483, 4.991596638655464, 4.733168724279836, 4.35536083728855, 4.546468024728896, 6.415765440999761, 6.440324214792301, 5.066344345957563, 5.801590355264849, 5.948599161703069, 5.979398899393257, 7.219111827641804, 8.308231000641124, 8.207164101900945, 7.573652359464096, 7.296839995283578, 7.527917297828806, 8.788589034689558, 11.379070441588562, 12.767549976755003, 13.225547375466109, 13.093314641198639, 13.291116248348747, 14.561923195601565, 16.481041312959828, 20.99924463148808, 25.11168702949526, 24.00339558573855, 23.39386243386245, 24.903130516228973, 25.537877174298902, 27.292840697291975, 32.52280480101076, 39.87958220347496, 39.52048484848485, 34.71260364842455, 35.20335172695689, 34.198881819934456, 34.61651111616968, 43.077984817115265, 52.06715646258505, 57.59401785186502, 51.302649930265005, 46.391903649768764, 49.379534173348624, 53.770877944325505, 67.39895656546612, 72.77258441992646, 60.39372574739031, 62.196032801418454, 67.08946532556911, 71.68935167968267, 83.4607989745781, 97.20895889736653, 104.19390774586599, 96.48232383688455, 102.83964965470778, 107.11180609851452, 107.32539887882712, 127.18617614269789, 161.4260536398468, 184.57259001161444, 169.22270742358083, 150.7505565319274, 158.2355816226785, 180.16901798063626, 231.4847038019453, 283.37731780940067, 205.06368437402926, 193.0521106259098, 236.31773049645395, 250.45292906606784, 269.12700320512823, 289.92688172043023, 400.2847838957964, 357.6054852320676, 306.69778980604434, 347.9056363172661, 352.41009788768685, 346.19782992682315, 382.13500000000016, 553.022864019254, 660.5174557627931, 470.167855929324, 392.764655904843, 417.8653441538925, 498.31473533619464, 621.1918113039611, 874.118824265166, 900.5263835263839, 730.8794992175276, 938.9076305220888, 673.7458033573143, 595.0465313028766, 1005.4675231977161, 985.4325646401119, 835.8046181172293, 971.274226804124, 811.779690189329, 871.1070110701111, 928.7465618860513, 691.9541910331385, 741.7110067814293, 928.6092628832356, 883.0458488228008, 721.7875569044008, 2601.0856102003654, 4106.005747126437, 976.482240437159, 1071.901123595506, 1429.2455089820367, 692.7178743961354, 548.2619320351281, 870.0266182698128, 1115.9736434108531, 1376.135625596944, 1601.9600000000007, 1794.3383084577122, 1485.1316872427992, 1257.2654482158405, 1136.6430817610064, 1053.222707423581, 1130.7010148321626, 1208.0816666666667, 1401.7120772946862, 1466.5131313131317, 1189.9557739557747, 989.3210884353743, 1045.7313218390807, 1150.9115323854664, 1206.150537634409, 1718.8103651354538, 1763.4782608695655, 1242.493197278912, 1057.4244396240063, 1016.554166666667, 1045.8486795146325, 1198.1601307189546, 1538.3857442348015, 1200.0130718954251, 836.3162684869174, 879.2831541218642, 933.8301647655267, 931.277777777778, 1166.3001579778836, 1331.3369369369375, 1006.1904761904764, 736.7383084577116, 649.5584756898819, 734.4480712166173, 929.8799249530961, 1249.5902602854746, 1422.5749761222546, 865.79674796748, 633.9074309978771, 523.0940888422526, 555.4786800148315, 617.6337448559672, 693.9002770083106, 747.7675111773474, 565.8971471471474, 504.46559786239163, 460.3144768856451, 420.32806871709624, 458.2049427365885, 637.0455876202427, 705.3037447988906, 488.43016938318965, 344.5937921727397, 286.6856929677299, 254.81301618764465, 226.47543859649127]}],\n",
       "                        {\"height\": 600, \"template\": {\"data\": {\"bar\": [{\"error_x\": {\"color\": \"#2a3f5f\"}, \"error_y\": {\"color\": \"#2a3f5f\"}, \"marker\": {\"line\": {\"color\": \"#E5ECF6\", \"width\": 0.5}}, \"type\": \"bar\"}], \"barpolar\": [{\"marker\": {\"line\": {\"color\": \"#E5ECF6\", \"width\": 0.5}}, \"type\": \"barpolar\"}], \"carpet\": [{\"aaxis\": {\"endlinecolor\": \"#2a3f5f\", \"gridcolor\": \"white\", \"linecolor\": \"white\", \"minorgridcolor\": \"white\", \"startlinecolor\": \"#2a3f5f\"}, \"baxis\": {\"endlinecolor\": \"#2a3f5f\", \"gridcolor\": \"white\", \"linecolor\": \"white\", \"minorgridcolor\": \"white\", \"startlinecolor\": \"#2a3f5f\"}, \"type\": \"carpet\"}], \"choropleth\": [{\"colorbar\": {\"outlinewidth\": 0, \"ticks\": \"\"}, \"type\": \"choropleth\"}], \"contour\": [{\"colorbar\": {\"outlinewidth\": 0, \"ticks\": \"\"}, \"colorscale\": [[0.0, \"#0d0887\"], [0.1111111111111111, \"#46039f\"], [0.2222222222222222, \"#7201a8\"], [0.3333333333333333, \"#9c179e\"], [0.4444444444444444, \"#bd3786\"], [0.5555555555555556, \"#d8576b\"], [0.6666666666666666, \"#ed7953\"], [0.7777777777777778, \"#fb9f3a\"], [0.8888888888888888, \"#fdca26\"], [1.0, \"#f0f921\"]], \"type\": \"contour\"}], \"contourcarpet\": [{\"colorbar\": {\"outlinewidth\": 0, \"ticks\": \"\"}, \"type\": \"contourcarpet\"}], \"heatmap\": [{\"colorbar\": {\"outlinewidth\": 0, \"ticks\": \"\"}, \"colorscale\": [[0.0, \"#0d0887\"], [0.1111111111111111, \"#46039f\"], [0.2222222222222222, \"#7201a8\"], [0.3333333333333333, \"#9c179e\"], [0.4444444444444444, \"#bd3786\"], [0.5555555555555556, \"#d8576b\"], [0.6666666666666666, \"#ed7953\"], [0.7777777777777778, \"#fb9f3a\"], [0.8888888888888888, \"#fdca26\"], [1.0, \"#f0f921\"]], \"type\": \"heatmap\"}], \"heatmapgl\": [{\"colorbar\": {\"outlinewidth\": 0, \"ticks\": \"\"}, \"colorscale\": [[0.0, \"#0d0887\"], [0.1111111111111111, \"#46039f\"], [0.2222222222222222, \"#7201a8\"], [0.3333333333333333, \"#9c179e\"], [0.4444444444444444, \"#bd3786\"], [0.5555555555555556, \"#d8576b\"], [0.6666666666666666, \"#ed7953\"], [0.7777777777777778, \"#fb9f3a\"], [0.8888888888888888, \"#fdca26\"], [1.0, \"#f0f921\"]], \"type\": \"heatmapgl\"}], \"histogram\": [{\"marker\": {\"colorbar\": {\"outlinewidth\": 0, \"ticks\": \"\"}}, \"type\": \"histogram\"}], \"histogram2d\": [{\"colorbar\": {\"outlinewidth\": 0, \"ticks\": \"\"}, \"colorscale\": [[0.0, \"#0d0887\"], [0.1111111111111111, \"#46039f\"], [0.2222222222222222, \"#7201a8\"], [0.3333333333333333, \"#9c179e\"], [0.4444444444444444, \"#bd3786\"], [0.5555555555555556, \"#d8576b\"], [0.6666666666666666, \"#ed7953\"], [0.7777777777777778, \"#fb9f3a\"], [0.8888888888888888, \"#fdca26\"], [1.0, \"#f0f921\"]], \"type\": \"histogram2d\"}], \"histogram2dcontour\": [{\"colorbar\": {\"outlinewidth\": 0, \"ticks\": \"\"}, \"colorscale\": [[0.0, \"#0d0887\"], [0.1111111111111111, \"#46039f\"], [0.2222222222222222, \"#7201a8\"], [0.3333333333333333, \"#9c179e\"], [0.4444444444444444, \"#bd3786\"], [0.5555555555555556, \"#d8576b\"], [0.6666666666666666, \"#ed7953\"], [0.7777777777777778, \"#fb9f3a\"], [0.8888888888888888, \"#fdca26\"], [1.0, \"#f0f921\"]], \"type\": \"histogram2dcontour\"}], \"mesh3d\": [{\"colorbar\": {\"outlinewidth\": 0, \"ticks\": \"\"}, \"type\": \"mesh3d\"}], \"parcoords\": [{\"line\": {\"colorbar\": {\"outlinewidth\": 0, \"ticks\": \"\"}}, \"type\": \"parcoords\"}], \"pie\": [{\"automargin\": true, \"type\": \"pie\"}], \"scatter\": [{\"marker\": {\"colorbar\": {\"outlinewidth\": 0, \"ticks\": \"\"}}, \"type\": \"scatter\"}], \"scatter3d\": [{\"line\": {\"colorbar\": {\"outlinewidth\": 0, \"ticks\": \"\"}}, \"marker\": {\"colorbar\": {\"outlinewidth\": 0, \"ticks\": \"\"}}, \"type\": \"scatter3d\"}], \"scattercarpet\": [{\"marker\": {\"colorbar\": {\"outlinewidth\": 0, \"ticks\": \"\"}}, \"type\": \"scattercarpet\"}], \"scattergeo\": [{\"marker\": {\"colorbar\": {\"outlinewidth\": 0, \"ticks\": \"\"}}, \"type\": \"scattergeo\"}], \"scattergl\": [{\"marker\": {\"colorbar\": {\"outlinewidth\": 0, \"ticks\": \"\"}}, \"type\": \"scattergl\"}], \"scattermapbox\": [{\"marker\": {\"colorbar\": {\"outlinewidth\": 0, \"ticks\": \"\"}}, \"type\": \"scattermapbox\"}], \"scatterpolar\": [{\"marker\": {\"colorbar\": {\"outlinewidth\": 0, \"ticks\": \"\"}}, \"type\": \"scatterpolar\"}], \"scatterpolargl\": [{\"marker\": {\"colorbar\": {\"outlinewidth\": 0, \"ticks\": \"\"}}, \"type\": \"scatterpolargl\"}], \"scatterternary\": [{\"marker\": {\"colorbar\": {\"outlinewidth\": 0, \"ticks\": \"\"}}, \"type\": \"scatterternary\"}], \"surface\": [{\"colorbar\": {\"outlinewidth\": 0, \"ticks\": \"\"}, \"colorscale\": [[0.0, \"#0d0887\"], [0.1111111111111111, \"#46039f\"], [0.2222222222222222, \"#7201a8\"], [0.3333333333333333, \"#9c179e\"], [0.4444444444444444, \"#bd3786\"], [0.5555555555555556, \"#d8576b\"], [0.6666666666666666, \"#ed7953\"], [0.7777777777777778, \"#fb9f3a\"], [0.8888888888888888, \"#fdca26\"], [1.0, \"#f0f921\"]], \"type\": \"surface\"}], \"table\": [{\"cells\": {\"fill\": {\"color\": \"#EBF0F8\"}, \"line\": {\"color\": \"white\"}}, \"header\": {\"fill\": {\"color\": \"#C8D4E3\"}, \"line\": {\"color\": \"white\"}}, \"type\": \"table\"}]}, \"layout\": {\"annotationdefaults\": {\"arrowcolor\": \"#2a3f5f\", \"arrowhead\": 0, \"arrowwidth\": 1}, \"coloraxis\": {\"colorbar\": {\"outlinewidth\": 0, \"ticks\": \"\"}}, \"colorscale\": {\"diverging\": [[0, \"#8e0152\"], [0.1, \"#c51b7d\"], [0.2, \"#de77ae\"], [0.3, \"#f1b6da\"], [0.4, \"#fde0ef\"], [0.5, \"#f7f7f7\"], [0.6, \"#e6f5d0\"], [0.7, \"#b8e186\"], [0.8, \"#7fbc41\"], [0.9, \"#4d9221\"], [1, \"#276419\"]], \"sequential\": [[0.0, \"#0d0887\"], [0.1111111111111111, \"#46039f\"], [0.2222222222222222, \"#7201a8\"], [0.3333333333333333, \"#9c179e\"], [0.4444444444444444, \"#bd3786\"], [0.5555555555555556, \"#d8576b\"], [0.6666666666666666, \"#ed7953\"], [0.7777777777777778, \"#fb9f3a\"], [0.8888888888888888, \"#fdca26\"], [1.0, \"#f0f921\"]], \"sequentialminus\": [[0.0, \"#0d0887\"], [0.1111111111111111, \"#46039f\"], [0.2222222222222222, \"#7201a8\"], [0.3333333333333333, \"#9c179e\"], [0.4444444444444444, \"#bd3786\"], [0.5555555555555556, \"#d8576b\"], [0.6666666666666666, \"#ed7953\"], [0.7777777777777778, \"#fb9f3a\"], [0.8888888888888888, \"#fdca26\"], [1.0, \"#f0f921\"]]}, \"colorway\": [\"#636efa\", \"#EF553B\", \"#00cc96\", \"#ab63fa\", \"#FFA15A\", \"#19d3f3\", \"#FF6692\", \"#B6E880\", \"#FF97FF\", \"#FECB52\"], \"font\": {\"color\": \"#2a3f5f\"}, \"geo\": {\"bgcolor\": \"white\", \"lakecolor\": \"white\", \"landcolor\": \"#E5ECF6\", \"showlakes\": true, \"showland\": true, \"subunitcolor\": \"white\"}, \"hoverlabel\": {\"align\": \"left\"}, \"hovermode\": \"closest\", \"mapbox\": {\"style\": \"light\"}, \"paper_bgcolor\": \"white\", \"plot_bgcolor\": \"#E5ECF6\", \"polar\": {\"angularaxis\": {\"gridcolor\": \"white\", \"linecolor\": \"white\", \"ticks\": \"\"}, \"bgcolor\": \"#E5ECF6\", \"radialaxis\": {\"gridcolor\": \"white\", \"linecolor\": \"white\", \"ticks\": \"\"}}, \"scene\": {\"xaxis\": {\"backgroundcolor\": \"#E5ECF6\", \"gridcolor\": \"white\", \"gridwidth\": 2, \"linecolor\": \"white\", \"showbackground\": true, \"ticks\": \"\", \"zerolinecolor\": \"white\"}, \"yaxis\": {\"backgroundcolor\": \"#E5ECF6\", \"gridcolor\": \"white\", \"gridwidth\": 2, \"linecolor\": \"white\", \"showbackground\": true, \"ticks\": \"\", \"zerolinecolor\": \"white\"}, \"zaxis\": {\"backgroundcolor\": \"#E5ECF6\", \"gridcolor\": \"white\", \"gridwidth\": 2, \"linecolor\": \"white\", \"showbackground\": true, \"ticks\": \"\", \"zerolinecolor\": \"white\"}}, \"shapedefaults\": {\"line\": {\"color\": \"#2a3f5f\"}}, \"ternary\": {\"aaxis\": {\"gridcolor\": \"white\", \"linecolor\": \"white\", \"ticks\": \"\"}, \"baxis\": {\"gridcolor\": \"white\", \"linecolor\": \"white\", \"ticks\": \"\"}, \"bgcolor\": \"#E5ECF6\", \"caxis\": {\"gridcolor\": \"white\", \"linecolor\": \"white\", \"ticks\": \"\"}}, \"title\": {\"x\": 0.05}, \"xaxis\": {\"automargin\": true, \"gridcolor\": \"white\", \"linecolor\": \"white\", \"ticks\": \"\", \"title\": {\"standoff\": 15}, \"zerolinecolor\": \"white\", \"zerolinewidth\": 2}, \"yaxis\": {\"automargin\": true, \"gridcolor\": \"white\", \"linecolor\": \"white\", \"ticks\": \"\", \"title\": {\"standoff\": 15}, \"zerolinecolor\": \"white\", \"zerolinewidth\": 2}}}, \"width\": 900, \"xaxis\": {\"rangeslider\": {\"visible\": true}, \"title\": {\"text\": \"Time\"}}, \"yaxis\": {\"title\": {\"text\": \"Confirmed infected cases (SOURCE: John Hopkins CSSE, log-scale)\"}}},\n",
       "                        {\"responsive\": true}\n",
       "                    ).then(function(){\n",
       "                            \n",
       "var gd = document.getElementById('2f064219-f4e0-4ca1-8e8e-1711220e5915');\n",
       "var x = new MutationObserver(function (mutations, observer) {{\n",
       "        var display = window.getComputedStyle(gd).display;\n",
       "        if (!display || display === 'none') {{\n",
       "            console.log([gd, 'removed!']);\n",
       "            Plotly.purge(gd);\n",
       "            observer.disconnect();\n",
       "        }}\n",
       "}});\n",
       "\n",
       "// Listen for the removal of the full notebook cells\n",
       "var notebookContainer = gd.closest('#notebook-container');\n",
       "if (notebookContainer) {{\n",
       "    x.observe(notebookContainer, {childList: true});\n",
       "}}\n",
       "\n",
       "// Listen for the clearing of the current output cell\n",
       "var outputEl = gd.closest('.output');\n",
       "if (outputEl) {{\n",
       "    x.observe(outputEl, {childList: true});\n",
       "}}\n",
       "\n",
       "                        })\n",
       "                };\n",
       "                });\n",
       "            </script>\n",
       "        </div>"
      ]
     },
     "metadata": {},
     "output_type": "display_data"
    }
   ],
   "source": [
    "import plotly.graph_objects as go\n",
    "import math\n",
    "fig = go.Figure()\n",
    "\n",
    "\n",
    "\n",
    "for each in country_list:\n",
    "    \n",
    "    df_plot = pd_results_large[pd_results_large['country'] == each]\n",
    "    df_plot=df_plot[['state','country','confirmed','confirmed_filtered','doubling_rate','doubling_rate_filtered','date']].groupby(['country','date']).agg(np.mean).reset_index()\n",
    "    \n",
    "    fig.add_trace(go.Scatter(\n",
    "        x=df_plot.date,\n",
    "        y=df_plot['doubling_rate'],\n",
    "        mode='markers+lines',\n",
    "        name=each,\n",
    "        marker_size=4,\n",
    "        opacity=0.9,\n",
    "        line_width=2\n",
    "        )\n",
    "    )\n",
    "    \n",
    "    \n",
    "\n",
    "fig.update_layout(\n",
    "    width=900,\n",
    "    height=600,\n",
    "    xaxis_title=\"Time\",\n",
    "    yaxis_title=\"Confirmed infected cases (SOURCE: John Hopkins CSSE, log-scale)\",\n",
    "    xaxis_rangeslider_visible=True\n",
    ")\n",
    "\n",
    "fig.update_layout()\n",
    "\n",
    "# fig.update_yaxes(type='log', range=[1.1, math.log10((df_plot.max()[1:].max()//1000 + 1) * 1000)])"
   ]
  },
  {
   "cell_type": "code",
   "execution_count": 38,
   "metadata": {},
   "outputs": [],
   "source": [
    "df_plot = pd_results_large[pd_results_large['country'] == 'Germany']"
   ]
  },
  {
   "cell_type": "code",
   "execution_count": 39,
   "metadata": {},
   "outputs": [],
   "source": [
    "df_plot=df_plot[['state','country','confirmed','confirmed_filtered','doubling_rate','doubling_rate_filtered','date']].groupby(['country','date']).agg(np.mean).reset_index()"
   ]
  },
  {
   "cell_type": "code",
   "execution_count": 31,
   "metadata": {},
   "outputs": [
    {
     "data": {
      "text/plain": [
       "Index(['index', 'date', 'state', 'country', 'confirmed', 'doubling_rate',\n",
       "       'confirmed_filtered', 'doubling_rate_filtered'],\n",
       "      dtype='object')"
      ]
     },
     "execution_count": 31,
     "metadata": {},
     "output_type": "execute_result"
    }
   ],
   "source": [
    "df_plot.columns"
   ]
  },
  {
   "cell_type": "code",
   "execution_count": 42,
   "metadata": {},
   "outputs": [
    {
     "data": {
      "text/plain": [
       "Timestamp('2020-05-04 00:00:00')"
      ]
     },
     "execution_count": 42,
     "metadata": {},
     "output_type": "execute_result"
    }
   ],
   "source": [
    "df_plot.date[103]"
   ]
  },
  {
   "cell_type": "code",
   "execution_count": 43,
   "metadata": {},
   "outputs": [
    {
     "data": {
      "text/plain": [
       "204.8486947915371"
      ]
     },
     "execution_count": 43,
     "metadata": {},
     "output_type": "execute_result"
    }
   ],
   "source": [
    "df_plot['doubling_rate_filtered'][103]"
   ]
  },
  {
   "cell_type": "code",
   "execution_count": 1,
   "metadata": {},
   "outputs": [
    {
     "data": {
      "text/plain": [
       "[1, 2, 4]"
      ]
     },
     "execution_count": 1,
     "metadata": {},
     "output_type": "execute_result"
    }
   ],
   "source": [
    "[1, 2, 4][:5]"
   ]
  },
  {
   "cell_type": "code",
   "execution_count": null,
   "metadata": {},
   "outputs": [],
   "source": [
    "{\"_id\":276,\"iso2\":\"DE\",\"iso3\":\"DEU\",\"lat\":51,\"long\":9,\"flag\":\"https://disease.sh/assets/img/flags/de.png\"},\"cases\":260149,\"todayCases\":424,\"deaths\":9424,\"todayDeaths\":1,\"recovered\":234850,\"todayRecovered\":1550,\"active\":15875,\"critical\":233,\"casesPerOneMillion\":3103,\"deathsPerOneMillion\":112,\"tests\":13436301,\"testsPerOneMillion\":160266,\"population\":83837542,\"continent\":\"Europe\",\"oneCasePerPeople\":322,\"oneDeathPerPeople\":8896,\"oneTestPerPeople\":6,\"activePerOneMillion\":189.35,\"recoveredPerOneMillion\":2801.25,\"criticalPerOneMillion\":2.78},"
   ]
  }
 ],
 "metadata": {
  "kernelspec": {
   "display_name": "Python 3",
   "language": "python",
   "name": "python3"
  },
  "language_info": {
   "codemirror_mode": {
    "name": "ipython",
    "version": 3
   },
   "file_extension": ".py",
   "mimetype": "text/x-python",
   "name": "python",
   "nbconvert_exporter": "python",
   "pygments_lexer": "ipython3",
   "version": "3.7.7"
  }
 },
 "nbformat": 4,
 "nbformat_minor": 2
}
